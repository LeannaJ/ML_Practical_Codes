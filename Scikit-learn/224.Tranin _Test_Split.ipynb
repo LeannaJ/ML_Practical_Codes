{
 "cells": [
  {
   "cell_type": "markdown",
   "id": "f3bc51c0-bb4e-4ea6-bc9f-a0d6efd76832",
   "metadata": {},
   "source": [
    "# Train Test Split"
   ]
  },
  {
   "cell_type": "markdown",
   "id": "952f15cb-a0f9-4c27-bd7a-2a667884c8f7",
   "metadata": {},
   "source": [
    "## Import the relevant libraries"
   ]
  },
  {
   "cell_type": "code",
   "execution_count": 14,
   "id": "fc04b573-d330-46cc-8195-af39eedd48e2",
   "metadata": {},
   "outputs": [],
   "source": [
    "import numpy as np\n",
    "from sklearn.model_selection import train_test_split"
   ]
  },
  {
   "cell_type": "markdown",
   "id": "14e9c96f-512f-4f65-a3c3-17d17edd256c",
   "metadata": {},
   "source": [
    "## Generate some data we are going to split"
   ]
  },
  {
   "cell_type": "code",
   "execution_count": 19,
   "id": "6a5abef3-ac71-4e0a-a4d5-8b0e07c74841",
   "metadata": {},
   "outputs": [],
   "source": [
    "a = np.arange(1,101)"
   ]
  },
  {
   "cell_type": "code",
   "execution_count": 21,
   "id": "d8e63f83-569f-4def-adfa-4eed7540be99",
   "metadata": {},
   "outputs": [
    {
     "data": {
      "text/plain": [
       "array([  1,   2,   3,   4,   5,   6,   7,   8,   9,  10,  11,  12,  13,\n",
       "        14,  15,  16,  17,  18,  19,  20,  21,  22,  23,  24,  25,  26,\n",
       "        27,  28,  29,  30,  31,  32,  33,  34,  35,  36,  37,  38,  39,\n",
       "        40,  41,  42,  43,  44,  45,  46,  47,  48,  49,  50,  51,  52,\n",
       "        53,  54,  55,  56,  57,  58,  59,  60,  61,  62,  63,  64,  65,\n",
       "        66,  67,  68,  69,  70,  71,  72,  73,  74,  75,  76,  77,  78,\n",
       "        79,  80,  81,  82,  83,  84,  85,  86,  87,  88,  89,  90,  91,\n",
       "        92,  93,  94,  95,  96,  97,  98,  99, 100])"
      ]
     },
     "execution_count": 21,
     "metadata": {},
     "output_type": "execute_result"
    }
   ],
   "source": [
    "a"
   ]
  },
  {
   "cell_type": "code",
   "execution_count": 23,
   "id": "1a188a13-a947-47d4-bea8-7ced6f49d347",
   "metadata": {},
   "outputs": [
    {
     "data": {
      "text/plain": [
       "array([501, 502, 503, 504, 505, 506, 507, 508, 509, 510, 511, 512, 513,\n",
       "       514, 515, 516, 517, 518, 519, 520, 521, 522, 523, 524, 525, 526,\n",
       "       527, 528, 529, 530, 531, 532, 533, 534, 535, 536, 537, 538, 539,\n",
       "       540, 541, 542, 543, 544, 545, 546, 547, 548, 549, 550, 551, 552,\n",
       "       553, 554, 555, 556, 557, 558, 559, 560, 561, 562, 563, 564, 565,\n",
       "       566, 567, 568, 569, 570, 571, 572, 573, 574, 575, 576, 577, 578,\n",
       "       579, 580, 581, 582, 583, 584, 585, 586, 587, 588, 589, 590, 591,\n",
       "       592, 593, 594, 595, 596, 597, 598, 599, 600])"
      ]
     },
     "execution_count": 23,
     "metadata": {},
     "output_type": "execute_result"
    }
   ],
   "source": [
    "b = np.arange(501,601)\n",
    "b"
   ]
  },
  {
   "cell_type": "markdown",
   "id": "2e48c14f-2430-48eb-94ee-d459a0d8e4d6",
   "metadata": {},
   "source": [
    "## Split the data"
   ]
  },
  {
   "cell_type": "code",
   "execution_count": 32,
   "id": "034ad5d8-028b-4ab2-b941-bf488211a5c3",
   "metadata": {},
   "outputs": [
    {
     "data": {
      "text/plain": [
       "[array([ 20,  98,  13,  54,  64,  96,  55,  62,  18,  61,   5,  82, 100,\n",
       "         73,  86,  30,  99,  40,  14,  70,   4,   3,  75,  77,  34,  47,\n",
       "         94,   6,  59,  72,  95,  50,  38,  41,  83,  21,  65,  46,  91,\n",
       "         71,  23,  51,  27,  33,  52,  85,  44,  93,  79,   2,  43,  28,\n",
       "         68,  17,  26,   1,  89,   9,  57,  81,  10,  60,  92,  66,  19,\n",
       "         67,   7,  97,  12,  22,  25,  87,  37,  32,  53]),\n",
       " array([11, 15, 36, 58, 76, 49, 29, 24, 48, 69, 74, 80, 84, 88, 45, 56, 39,\n",
       "        31, 16,  8, 78, 90, 35, 42, 63])]"
      ]
     },
     "execution_count": 32,
     "metadata": {},
     "output_type": "execute_result"
    }
   ],
   "source": [
    "train_test_split(a)"
   ]
  },
  {
   "cell_type": "code",
   "execution_count": 34,
   "id": "bd987763-cb65-4226-be00-33a5d8d2c92f",
   "metadata": {},
   "outputs": [],
   "source": [
    "a_train, a_test = train_test_split(a)"
   ]
  },
  {
   "cell_type": "markdown",
   "id": "3a46cda9-452f-430f-8de8-8c83efeafbd9",
   "metadata": {},
   "source": [
    "## Explore the result"
   ]
  },
  {
   "cell_type": "code",
   "execution_count": 36,
   "id": "cf20f7b0-c6ea-4620-8a3f-4009cbfd6fd0",
   "metadata": {},
   "outputs": [
    {
     "data": {
      "text/plain": [
       "((75,), (25,))"
      ]
     },
     "execution_count": 36,
     "metadata": {},
     "output_type": "execute_result"
    }
   ],
   "source": [
    "a_train.shape, a_test.shape"
   ]
  },
  {
   "cell_type": "code",
   "execution_count": 38,
   "id": "3d2bc29b-f502-495c-92ce-04eb519a998b",
   "metadata": {},
   "outputs": [
    {
     "data": {
      "text/plain": [
       "array([ 56,  46,  73,  12,  66,  70,  60,  15,  37,  40,  98,  24,  74,\n",
       "        42,  59,  14,  85,  87,  26,  30,  83,  28,  77,  18,  86,  21,\n",
       "        81,  47,  45,  55,  54, 100,  20,   9,  84,  51,  57,   4,  78,\n",
       "        64,   3,  48,  82,  35,  90,  19,  69,  94,  80,  36,  17,  32,\n",
       "        10,   6,  50,  41,  11,  13,  71,  43,  65,  61,  44,  31,  63,\n",
       "        67,  96,  95,  79,   1,  39,  58,   2,  53,  34])"
      ]
     },
     "execution_count": 38,
     "metadata": {},
     "output_type": "execute_result"
    }
   ],
   "source": [
    "a_train"
   ]
  },
  {
   "cell_type": "code",
   "execution_count": 40,
   "id": "73bfaa35-9977-4fc5-b1da-84d62e1062ff",
   "metadata": {},
   "outputs": [
    {
     "data": {
      "text/plain": [
       "array([52, 62, 97, 22, 88, 72, 33, 27, 29, 89, 91, 99,  8, 75, 38, 49,  5,\n",
       "       92, 93, 25, 76, 16,  7, 23, 68])"
      ]
     },
     "execution_count": 40,
     "metadata": {},
     "output_type": "execute_result"
    }
   ],
   "source": [
    "a_test"
   ]
  },
  {
   "cell_type": "code",
   "execution_count": 42,
   "id": "18ad5754-259e-4048-9980-c5d6eb398c31",
   "metadata": {},
   "outputs": [],
   "source": [
    "#If ((75,), (25,)) 이 내 업무에 맞지 않을 때\n",
    "#If I do not like dedicating so much of my data to testing, 0과 1사이 비율값으로 test_size 입력"
   ]
  },
  {
   "cell_type": "code",
   "execution_count": 56,
   "id": "bf08d39b-d929-4378-a58a-2b77c3567c4e",
   "metadata": {},
   "outputs": [
    {
     "data": {
      "text/plain": [
       "((80,), (20,))"
      ]
     },
     "execution_count": 56,
     "metadata": {},
     "output_type": "execute_result"
    }
   ],
   "source": [
    "a_train, a_test = train_test_split(a, test_size=0.2)\n",
    "a_train.shape, a_test.shape"
   ]
  },
  {
   "cell_type": "code",
   "execution_count": 58,
   "id": "18f24666-f32f-4a87-b102-e8ddf8b72232",
   "metadata": {},
   "outputs": [],
   "source": [
    "#time series data 와 같이 order대로 분석하는 것이 중요한 데이터의 경우\n",
    "#randomly shuffled 없이 데이터 나누기, shuffle=False 입력"
   ]
  },
  {
   "cell_type": "code",
   "execution_count": 60,
   "id": "3e4ac41e-1c5c-4048-9279-7c5f0ee3a9ab",
   "metadata": {},
   "outputs": [
    {
     "data": {
      "text/plain": [
       "array([ 1,  2,  3,  4,  5,  6,  7,  8,  9, 10, 11, 12, 13, 14, 15, 16, 17,\n",
       "       18, 19, 20, 21, 22, 23, 24, 25, 26, 27, 28, 29, 30, 31, 32, 33, 34,\n",
       "       35, 36, 37, 38, 39, 40, 41, 42, 43, 44, 45, 46, 47, 48, 49, 50, 51,\n",
       "       52, 53, 54, 55, 56, 57, 58, 59, 60, 61, 62, 63, 64, 65, 66, 67, 68,\n",
       "       69, 70, 71, 72, 73, 74, 75, 76, 77, 78, 79, 80])"
      ]
     },
     "execution_count": 60,
     "metadata": {},
     "output_type": "execute_result"
    }
   ],
   "source": [
    "a_train, a_test = train_test_split(a, test_size=0.2, shuffle=False)\n",
    "a_train"
   ]
  },
  {
   "cell_type": "code",
   "execution_count": 62,
   "id": "396e6185-d91d-43be-b88c-d215fdf19dfd",
   "metadata": {},
   "outputs": [
    {
     "data": {
      "text/plain": [
       "array([ 81,  82,  83,  84,  85,  86,  87,  88,  89,  90,  91,  92,  93,\n",
       "        94,  95,  96,  97,  98,  99, 100])"
      ]
     },
     "execution_count": 62,
     "metadata": {},
     "output_type": "execute_result"
    }
   ],
   "source": [
    "a_test"
   ]
  },
  {
   "cell_type": "code",
   "execution_count": 64,
   "id": "1d3e6a6c-5cf1-4b71-acc7-22f8dcbaea7a",
   "metadata": {},
   "outputs": [],
   "source": [
    "a_train, a_test = train_test_split(a, test_size=0.2)"
   ]
  },
  {
   "cell_type": "code",
   "execution_count": 66,
   "id": "9fd57e35-4654-41f6-9f7e-054481a8ce70",
   "metadata": {},
   "outputs": [
    {
     "data": {
      "text/plain": [
       "array([ 45,  37,  32,  55,  66,  33,  78,  52,  31,  84,  28,  12,  23,\n",
       "        30,  54,   5,  60,  68,  82,  91,  46,  11,   8,  44,  70,  57,\n",
       "        75,  51,  99,  43,  73,  25,  85,  86,  41,  79,   1,  88,  71,\n",
       "        65,  39,  18,  20,  34,  69,  59,  24,  89,  58,  81,  61,  87,\n",
       "        10,  50,  63,  94,  49,  53,  38,  62,  96,  40,  98,  77, 100,\n",
       "         9,  93,  92,   4,  26,  16,   2,  67,  19,  22,  13,  72,  14,\n",
       "        17,  27])"
      ]
     },
     "execution_count": 66,
     "metadata": {},
     "output_type": "execute_result"
    }
   ],
   "source": [
    "a_train"
   ]
  },
  {
   "cell_type": "code",
   "execution_count": 68,
   "id": "28c683e7-9e18-4426-aa72-39b7fb2dcc3e",
   "metadata": {},
   "outputs": [
    {
     "data": {
      "text/plain": [
       "array([90, 76, 29, 35, 47, 97, 56,  6, 80, 95, 42,  7, 15, 48, 21, 64, 36,\n",
       "        3, 83, 74])"
      ]
     },
     "execution_count": 68,
     "metadata": {},
     "output_type": "execute_result"
    }
   ],
   "source": [
    "a_test"
   ]
  },
  {
   "cell_type": "code",
   "execution_count": null,
   "id": "d2b6335f-e556-4756-b29e-aa103b89cf70",
   "metadata": {},
   "outputs": [],
   "source": [
    "#random_state 에 인수를 입력하면, randomize하지만 코드 돌릴 때마다 셔플이 바뀌지는 않음"
   ]
  },
  {
   "cell_type": "code",
   "execution_count": 76,
   "id": "6383d541-9c6a-4567-830c-521d6e4a5b4d",
   "metadata": {},
   "outputs": [
    {
     "data": {
      "text/plain": [
       "array([ 56,  89,  27,  43,  70,  16,  41,  97,  10,  73,  12,  48,  86,\n",
       "        29,  94,   6,  67,  66,  36,  17,  50,  35,   8,  96,  28,  20,\n",
       "        82,  26,  63,  14,  25,   4,  18,  39,   9,  79,   7,  65,  37,\n",
       "        90,  57, 100,  55,  44,  51,  68,  47,  69,  62,  98,  80,  42,\n",
       "        59,  49,  99,  58,  76,  33,  95,  60,  64,  85,  38,  30,   2,\n",
       "        53,  22,   3,  24,  88,  92,  75,  87,  83,  21,  61,  72,  15,\n",
       "        93,  52])"
      ]
     },
     "execution_count": 76,
     "metadata": {},
     "output_type": "execute_result"
    }
   ],
   "source": [
    "a_train, a_test = train_test_split(a, test_size=0.2, random_state=42)\n",
    "a_train"
   ]
  },
  {
   "cell_type": "code",
   "execution_count": 78,
   "id": "7823e23e-aa5f-4aad-82ab-48a3bee18867",
   "metadata": {},
   "outputs": [
    {
     "data": {
      "text/plain": [
       "array([84, 54, 71, 46, 45, 40, 23, 81, 11,  1, 19, 31, 74, 34, 91,  5, 77,\n",
       "       78, 13, 32])"
      ]
     },
     "execution_count": 78,
     "metadata": {},
     "output_type": "execute_result"
    }
   ],
   "source": [
    "a_test"
   ]
  },
  {
   "cell_type": "code",
   "execution_count": 80,
   "id": "87aad2a8-9176-48b7-9e2d-f80131da43cf",
   "metadata": {},
   "outputs": [
    {
     "data": {
      "text/plain": [
       "array([ 25,  32,  99,  73,  91,  66,   3,  59,  94,   1,   8,  15,  90,\n",
       "        54,  31,  20,  77,  82,  30,  35,  95,  42,  38,   7,  11,  50,\n",
       "        21,  48,   2,  17,  10,  58,  68,  43,  41,  16,  88,  72,  79,\n",
       "       100,  80,  39,  24,  86,  22,  23,  62,  76,  18,  47,  55,  26,\n",
       "        60,  19,  71,  64,  51,  63,  65,  28,  12,  78,  13,  44,  75,\n",
       "        87,  40,   4,  29,  49,  37,  57,  27,  74,   6,  45,  92,  34,\n",
       "        53,  83])"
      ]
     },
     "execution_count": 80,
     "metadata": {},
     "output_type": "execute_result"
    }
   ],
   "source": [
    "a_train, a_test, b_train, b_test = train_test_split(a, b, test_size=0.2, random_state=365)\n",
    "a_train"
   ]
  },
  {
   "cell_type": "code",
   "execution_count": 82,
   "id": "7fe017a7-adf1-41e3-8d7a-203a5be3ccc6",
   "metadata": {},
   "outputs": [
    {
     "data": {
      "text/plain": [
       "array([ 9, 69, 81, 56, 33, 93, 84, 61, 46, 89, 85, 67, 97,  5, 70, 36, 98,\n",
       "       96, 14, 52])"
      ]
     },
     "execution_count": 82,
     "metadata": {},
     "output_type": "execute_result"
    }
   ],
   "source": [
    "a_test"
   ]
  },
  {
   "cell_type": "code",
   "execution_count": 88,
   "id": "addb267c-9a47-4122-9b69-180a5be505e4",
   "metadata": {},
   "outputs": [
    {
     "data": {
      "text/plain": [
       "((80,), (20,))"
      ]
     },
     "execution_count": 88,
     "metadata": {},
     "output_type": "execute_result"
    }
   ],
   "source": [
    "b_train.shape, b_test.shape"
   ]
  },
  {
   "cell_type": "code",
   "execution_count": 84,
   "id": "8059ac1e-136c-4f57-8cbd-ccce0211c453",
   "metadata": {},
   "outputs": [
    {
     "data": {
      "text/plain": [
       "array([525, 532, 599, 573, 591, 566, 503, 559, 594, 501, 508, 515, 590,\n",
       "       554, 531, 520, 577, 582, 530, 535, 595, 542, 538, 507, 511, 550,\n",
       "       521, 548, 502, 517, 510, 558, 568, 543, 541, 516, 588, 572, 579,\n",
       "       600, 580, 539, 524, 586, 522, 523, 562, 576, 518, 547, 555, 526,\n",
       "       560, 519, 571, 564, 551, 563, 565, 528, 512, 578, 513, 544, 575,\n",
       "       587, 540, 504, 529, 549, 537, 557, 527, 574, 506, 545, 592, 534,\n",
       "       553, 583])"
      ]
     },
     "execution_count": 84,
     "metadata": {},
     "output_type": "execute_result"
    }
   ],
   "source": [
    "b_train"
   ]
  },
  {
   "cell_type": "code",
   "execution_count": 86,
   "id": "89f5ac07-cbe5-497a-bba3-5ba654f5336d",
   "metadata": {},
   "outputs": [
    {
     "data": {
      "text/plain": [
       "array([509, 569, 581, 556, 533, 593, 584, 561, 546, 589, 585, 567, 597,\n",
       "       505, 570, 536, 598, 596, 514, 552])"
      ]
     },
     "execution_count": 86,
     "metadata": {},
     "output_type": "execute_result"
    }
   ],
   "source": [
    "b_test"
   ]
  },
  {
   "cell_type": "code",
   "execution_count": null,
   "id": "873f6a94-5dce-4ef3-8f99-7006726d5bc0",
   "metadata": {},
   "outputs": [],
   "source": []
  }
 ],
 "metadata": {
  "kernelspec": {
   "display_name": "Python 3 (ipykernel)",
   "language": "python",
   "name": "python3"
  },
  "language_info": {
   "codemirror_mode": {
    "name": "ipython",
    "version": 3
   },
   "file_extension": ".py",
   "mimetype": "text/x-python",
   "name": "python",
   "nbconvert_exporter": "python",
   "pygments_lexer": "ipython3",
   "version": "3.12.4"
  }
 },
 "nbformat": 4,
 "nbformat_minor": 5
}
