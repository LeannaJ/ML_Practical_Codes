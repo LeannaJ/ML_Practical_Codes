{
  "nbformat": 4,
  "nbformat_minor": 0,
  "metadata": {
    "colab": {
      "provenance": []
    },
    "kernelspec": {
      "name": "python3",
      "display_name": "Python 3"
    },
    "language_info": {
      "name": "python"
    }
  },
  "cells": [
    {
      "cell_type": "markdown",
      "source": [
        "**Develop Targeted Insurance Renewal Offers**"
      ],
      "metadata": {
        "id": "QH-lyJuzKCy2"
      }
    },
    {
      "cell_type": "markdown",
      "source": [
        "Please use InsuranceRenewal.csv to work on the assignment questions below. Please use Python code and\n",
        "run them in the Google Colab environment.\n",
        "An insurance company is developing a predictive model and wants to use the model to develop targeted renewal offers for customers who are renewing their insurance policy with the company for the first time. In general insurance customers have a high renewal rate. However, these customers are renewing for the first time, so the average renewal rate for this group is low.\n",
        "The company has developed two types of renewal offers: “Renewal Offer 0” that gives no discount off the insurance premium; “Renewal Offer 1” that gives a 2% discount off the insurance premium. It wants to understand the impact of each renewal offer on the probability of customer renewals. It has randomly selected 1,000 customers who need to renew their policies for the first time in the next 60 days, and randomly assigned one of the two renewal offers to each of them. It has collected a data set, “InsuranceRenewal.csv”, on how each of the 1,000 customers responds to the renewal offer."
      ],
      "metadata": {
        "id": "D6H3dPOGV8g-"
      }
    },
    {
      "cell_type": "markdown",
      "source": [
        "**Please do not preprocess the data in this assignment.\n",
        "Your interpretation for any non-intercept coefficients should follow the interpretation shown in the class. Please point out the baseline group and the focal group when applicable.**"
      ],
      "metadata": {
        "id": "EXH6Au1vWD3u"
      }
    },
    {
      "cell_type": "code",
      "source": [
        "from google.colab import drive\n",
        "drive.mount('/content/drive')"
      ],
      "metadata": {
        "id": "PB9pE80hKA_F",
        "colab": {
          "base_uri": "https://localhost:8080/"
        },
        "outputId": "69a015fa-4fe7-4cb0-8ef7-d99519461ab5"
      },
      "execution_count": 1,
      "outputs": [
        {
          "output_type": "stream",
          "name": "stdout",
          "text": [
            "Mounted at /content/drive\n"
          ]
        }
      ]
    },
    {
      "cell_type": "code",
      "source": [
        "import os\n",
        "import pandas as pd\n",
        "import numpy as np\n",
        "import seaborn as sns\n",
        "import statsmodels.api as sm\n",
        "import statsmodels.formula.api as smf\n",
        "import matplotlib.pyplot as plt\n",
        "from scipy import stats\n",
        "\n",
        "file_path = '/content/drive/MyDrive/Data/InsuranceRenewal.csv'\n",
        "df = pd.read_csv(file_path)"
      ],
      "metadata": {
        "id": "coSURFnw63-H"
      },
      "execution_count": 2,
      "outputs": []
    },
    {
      "cell_type": "code",
      "source": [
        "print(df.info())\n",
        "print(df.describe())"
      ],
      "metadata": {
        "colab": {
          "base_uri": "https://localhost:8080/"
        },
        "id": "XAHti8Xv_NHY",
        "outputId": "b32627d9-a421-40f1-f031-975d305d521c"
      },
      "execution_count": 3,
      "outputs": [
        {
          "output_type": "stream",
          "name": "stdout",
          "text": [
            "<class 'pandas.core.frame.DataFrame'>\n",
            "RangeIndex: 1000 entries, 0 to 999\n",
            "Data columns (total 16 columns):\n",
            " #   Column                         Non-Null Count  Dtype  \n",
            "---  ------                         --------------  -----  \n",
            " 0   Customer                       1000 non-null   object \n",
            " 1   State                          1000 non-null   object \n",
            " 2   Coverage                       1000 non-null   object \n",
            " 3   Location_Code                  1000 non-null   object \n",
            " 4   Monthly_Premium_Auto           1000 non-null   int64  \n",
            " 5   Months_Since_Last_Claim        1000 non-null   int64  \n",
            " 6   Months_Since_Policy_Inception  1000 non-null   int64  \n",
            " 7   Number_of_Open_Complaints      1000 non-null   int64  \n",
            " 8   Number_of_Policies             1000 non-null   int64  \n",
            " 9   Policy                         1000 non-null   object \n",
            " 10  Sales_Channel                  1000 non-null   object \n",
            " 11  Total_Claim_Amount             1000 non-null   float64\n",
            " 12  Vehicle_Class                  1000 non-null   object \n",
            " 13  Vehicle_Size                   1000 non-null   object \n",
            " 14  Renewal_Offer                  1000 non-null   int64  \n",
            " 15  Response                       1000 non-null   int64  \n",
            "dtypes: float64(1), int64(7), object(8)\n",
            "memory usage: 125.1+ KB\n",
            "None\n",
            "       Monthly_Premium_Auto  Months_Since_Last_Claim  \\\n",
            "count           1000.000000              1000.000000   \n",
            "mean              94.493000                14.571000   \n",
            "std               35.141982                10.129342   \n",
            "min               61.000000                 0.000000   \n",
            "25%               69.000000                 6.000000   \n",
            "50%               85.000000                13.000000   \n",
            "75%              111.000000                23.000000   \n",
            "max              287.000000                35.000000   \n",
            "\n",
            "       Months_Since_Policy_Inception  Number_of_Open_Complaints  \\\n",
            "count                    1000.000000                1000.000000   \n",
            "mean                       49.273000                   0.410000   \n",
            "std                        28.064748                   0.897053   \n",
            "min                         0.000000                   0.000000   \n",
            "25%                        25.000000                   0.000000   \n",
            "50%                        49.000000                   0.000000   \n",
            "75%                        73.000000                   0.000000   \n",
            "max                        99.000000                   5.000000   \n",
            "\n",
            "       Number_of_Policies  Total_Claim_Amount  Renewal_Offer     Response  \n",
            "count         1000.000000         1000.000000     1000.00000  1000.000000  \n",
            "mean             3.172000          435.115888        0.50000     0.099000  \n",
            "std              2.455697          286.260389        0.50025     0.298811  \n",
            "min              1.000000            0.382107        0.00000     0.000000  \n",
            "25%              1.000000          270.971226        0.00000     0.000000  \n",
            "50%              2.000000          383.681879        0.50000     0.000000  \n",
            "75%              4.000000          547.200000        1.00000     0.000000  \n",
            "max              9.000000         2345.413441        1.00000     1.000000  \n"
          ]
        }
      ]
    },
    {
      "cell_type": "code",
      "source": [
        "print(\"Missing Values:\\n\", df.isna().sum())"
      ],
      "metadata": {
        "colab": {
          "base_uri": "https://localhost:8080/"
        },
        "id": "qebBXbRmAuiO",
        "outputId": "03fd232f-72f4-4e82-f43f-4ce5963ddd36"
      },
      "execution_count": 4,
      "outputs": [
        {
          "output_type": "stream",
          "name": "stdout",
          "text": [
            "Missing Values:\n",
            " Customer                         0\n",
            "State                            0\n",
            "Coverage                         0\n",
            "Location_Code                    0\n",
            "Monthly_Premium_Auto             0\n",
            "Months_Since_Last_Claim          0\n",
            "Months_Since_Policy_Inception    0\n",
            "Number_of_Open_Complaints        0\n",
            "Number_of_Policies               0\n",
            "Policy                           0\n",
            "Sales_Channel                    0\n",
            "Total_Claim_Amount               0\n",
            "Vehicle_Class                    0\n",
            "Vehicle_Size                     0\n",
            "Renewal_Offer                    0\n",
            "Response                         0\n",
            "dtype: int64\n"
          ]
        }
      ]
    },
    {
      "cell_type": "markdown",
      "source": [
        "## Q1."
      ],
      "metadata": {
        "id": "0MYVxRwdzxXH"
      }
    },
    {
      "cell_type": "markdown",
      "source": [
        "Please build a logistic regression model with `Response` being dependent variable, and `State`, `Coverage`, `Location_Code`, `Monthly_Premium_Auto`, `Months_Since_Last_Claim`, `Months_Since_Policy_Inception`, `Number_of_Open_Complaints`, `Number_of_Policies`, `Policy`, `Sales_Channel`, `Total_Claim_Amount`, `Vehicle_Class`, `Vehicle_Size`, `Renewal_Offer` being independent variables. Please interpret the coefficients that are significant."
      ],
      "metadata": {
        "id": "EaWPdbEOz6Mu"
      }
    },
    {
      "cell_type": "code",
      "source": [
        "# Prepare data for logistic regression\n",
        "# Convert categorical variables to dummy variables\n",
        "formula = (\n",
        "    \"Response ~ C(State) + C(Coverage) + C(Location_Code) + Monthly_Premium_Auto + \"\n",
        "    \"Months_Since_Last_Claim + Months_Since_Policy_Inception + Number_of_Open_Complaints + \"\n",
        "    \"Number_of_Policies + C(Policy) + C(Sales_Channel) + Total_Claim_Amount + \"\n",
        "    \"C(Vehicle_Class) + C(Vehicle_Size) + C(Renewal_Offer)\"\n",
        ")\n",
        "\n",
        "logit_model = smf.logit(formula=formula, data=df).fit()\n",
        "print(logit_model.summary())"
      ],
      "metadata": {
        "id": "ganqNzUC1Ji4",
        "colab": {
          "base_uri": "https://localhost:8080/"
        },
        "outputId": "93bfd500-4b91-430f-e7b8-0fbb6c356fae"
      },
      "execution_count": 7,
      "outputs": [
        {
          "output_type": "stream",
          "name": "stdout",
          "text": [
            "Warning: Maximum number of iterations has been exceeded.\n",
            "         Current function value: 0.240018\n",
            "         Iterations: 35\n",
            "                           Logit Regression Results                           \n",
            "==============================================================================\n",
            "Dep. Variable:               Response   No. Observations:                 1000\n",
            "Model:                          Logit   Df Residuals:                      966\n",
            "Method:                           MLE   Df Model:                           33\n",
            "Date:                Sat, 30 Nov 2024   Pseudo R-squ.:                  0.2566\n",
            "Time:                        19:35:08   Log-Likelihood:                -240.02\n",
            "converged:                      False   LL-Null:                       -322.88\n",
            "Covariance Type:            nonrobust   LLR p-value:                 1.322e-19\n",
            "====================================================================================================\n",
            "                                       coef    std err          z      P>|z|      [0.025      0.975]\n",
            "----------------------------------------------------------------------------------------------------\n",
            "Intercept                           -3.8897      1.556     -2.499      0.012      -6.940      -0.840\n",
            "C(State)[T.California]              -0.0537      0.360     -0.149      0.881      -0.760       0.653\n",
            "C(State)[T.Nevada]                  -0.1850      0.507     -0.365      0.715      -1.179       0.809\n",
            "C(State)[T.Oregon]                  -0.2272      0.368     -0.618      0.537      -0.948       0.494\n",
            "C(State)[T.Washington]              -0.0916      0.497     -0.185      0.854      -1.065       0.882\n",
            "C(Coverage)[T.Extended]             -0.0033      0.482     -0.007      0.995      -0.949       0.942\n",
            "C(Coverage)[T.Premium]               0.2394      0.910      0.263      0.793      -1.545       2.024\n",
            "C(Location_Code)[T.Suburban]         3.7197      0.657      5.663      0.000       2.432       5.007\n",
            "C(Location_Code)[T.Urban]            1.0820      0.720      1.503      0.133      -0.329       2.493\n",
            "C(Policy)[T.Corporate L2]            0.3163      0.828      0.382      0.702      -1.307       1.939\n",
            "C(Policy)[T.Corporate L3]            0.2632      0.755      0.348      0.728      -1.217       1.744\n",
            "C(Policy)[T.Personal L1]             0.2132      0.732      0.291      0.771      -1.222       1.648\n",
            "C(Policy)[T.Personal L2]            -0.5729      0.747     -0.767      0.443      -2.038       0.892\n",
            "C(Policy)[T.Personal L3]             0.2494      0.698      0.357      0.721      -1.119       1.617\n",
            "C(Policy)[T.Special L1]              0.7145      1.189      0.601      0.548      -1.616       3.045\n",
            "C(Policy)[T.Special L2]            -31.2053   3.81e+06  -8.18e-06      1.000   -7.47e+06    7.47e+06\n",
            "C(Policy)[T.Special L3]              1.7388      0.973      1.787      0.074      -0.168       3.646\n",
            "C(Sales_Channel)[T.Branch]          -0.5219      0.303     -1.721      0.085      -1.116       0.072\n",
            "C(Sales_Channel)[T.Call Center]     -1.2023      0.429     -2.805      0.005      -2.042      -0.362\n",
            "C(Sales_Channel)[T.Web]              0.6412      0.380      1.688      0.091      -0.103       1.386\n",
            "C(Vehicle_Class)[T.Luxury Car]       2.9288      2.499      1.172      0.241      -1.968       7.826\n",
            "C(Vehicle_Class)[T.Luxury SUV]       3.1170      2.666      1.169      0.242      -2.107       8.341\n",
            "C(Vehicle_Class)[T.SUV]              0.6250      0.851      0.734      0.463      -1.043       2.293\n",
            "C(Vehicle_Class)[T.Sports Car]       0.3773      1.010      0.374      0.709      -1.602       2.356\n",
            "C(Vehicle_Class)[T.Two-Door Car]    -0.3100      0.347     -0.892      0.372      -0.991       0.371\n",
            "C(Vehicle_Size)[T.Medsize]          -0.4925      0.409     -1.205      0.228      -1.293       0.308\n",
            "C(Vehicle_Size)[T.Small]            -1.0712      0.490     -2.185      0.029      -2.032      -0.110\n",
            "C(Renewal_Offer)[T.1]                2.2470      0.345      6.517      0.000       1.571       2.923\n",
            "Monthly_Premium_Auto                 0.0105      0.018      0.569      0.569      -0.026       0.047\n",
            "Months_Since_Last_Claim             -0.0272      0.013     -2.155      0.031      -0.052      -0.002\n",
            "Months_Since_Policy_Inception       -0.0035      0.004     -0.811      0.417      -0.012       0.005\n",
            "Number_of_Open_Complaints           -0.0135      0.136     -0.099      0.921      -0.280       0.253\n",
            "Number_of_Policies                  -0.1168      0.055     -2.132      0.033      -0.224      -0.009\n",
            "Total_Claim_Amount                  -0.0055      0.001     -4.821      0.000      -0.008      -0.003\n",
            "====================================================================================================\n"
          ]
        },
        {
          "output_type": "stream",
          "name": "stderr",
          "text": [
            "/usr/local/lib/python3.10/dist-packages/statsmodels/base/model.py:607: ConvergenceWarning: Maximum Likelihood optimization failed to converge. Check mle_retvals\n",
            "  warnings.warn(\"Maximum Likelihood optimization failed to \"\n"
          ]
        }
      ]
    },
    {
      "cell_type": "markdown",
      "source": [
        "**Baseline Group**\n",
        "- Baseline Group: For categorical variables, the following baseline groups are used:\n",
        "  - `State`: Baseline is the first state alphabetically (Arizona).\n",
        "  - `Coverage`: Baseline is “Basic”.\n",
        "  - `Location_Code`: Baseline is “Rural”.\n",
        "  - `Policy`: Baseline is “Corporate L1”.\n",
        "  - `Sales_Channel`: Baseline is “Agent”.\n",
        "  - `Vehicle_Class`: Baseline is “Four-Door Car”.\n",
        "  - `Vehicle_Size`: Baseline is “Large”.\n",
        "  - `Renewal_Offer`: Baseline is “0” (no discount).\n",
        "\n",
        "**Significant Variables**\n",
        "1. Intercept (-3.8897, p = 0.012)\n",
        "- Baseline probability of renewal (`Response` = 1) is very low when all predictors are at their baseline values.\n",
        "\n",
        "2. C(`Location_Code`)[T.Suburban] (3.7197, p < 0.001)\n",
        "- Customers living in Suburban areas are significantly more likely to renew their policies compared to those living in Rural areas (baseline group).\n",
        "- The odds of renewal increase by e^{3.7197}=41.25 times for Suburban residents compared to Rural residents.\n",
        "\n",
        "3. C(`Vehicle_Size`)[T.Small] (-1.0712, p = 0.029)\n",
        "- Customers with Small vehicles are less likely to renew their policies compared to those with Large vehicles (baseline group).\n",
        "- The odds of renewal decrease by e^{-1.0712}=0.34 times for Small vehicle owners compared to Large vehicle owners.\n",
        "\n",
        "4. C(`Renewal_Offer`)[T.1] (2.2470, p < 0.001)\n",
        "- Customers who received the 2% discount offer are significantly more likely to renew their policies compared to those who did not receive any discount (baseline group).\n",
        "- The odds of renewal increase by e^{2.2470}=9.46 times for customers receiving the discount.\n",
        "\n",
        "5. `Months_Since_Last_Claim` (-0.0272, p = 0.031)\n",
        "- For every additional month since the last claim, the likelihood of renewal decreases slightly.\n",
        "- The odds of renewal decrease by approximately e^{-0.0272}=0.973 times for each additional month.\n",
        "\n",
        "6. `Number_of_Policies` (-0.1168, p = 0.033)\n",
        "- Customers with more policies are slightly less likely to renew their insurance.\n",
        "- The odds of renewal decrease by e^{-0.1168}=0.89 times for each additional policy the customer holds.\n",
        "\n",
        "7. `Total_Claim_Amount` (-0.0055, p < 0.001)\n",
        "- Higher total claim amounts reduce the likelihood of renewal.\n",
        "- For every unit increase in the total claim amount, the odds of renewal decrease by e^{-0.0055}=0.9945 times.\n",
        "\n",
        "**Insights**\n",
        "- Offering a 2% discount (`Renewal Offer`= 1) significantly increases the likelihood of renewal.\n",
        "- Customers in Suburban areas are much more likely to renew than those in Rural areas, suggesting geographic targeting.\n",
        "- Owning a Small vehicle reduces the renewal likelihood, hinting at a possible demographic preference or dissatisfaction among these customers.\n",
        "- Factors such as the time since the last claim, the number of policies, and the total claim amount negatively impact renewal probability, potentially signaling risk-averse behavior from the company or dissatisfaction among high-claim customers."
      ],
      "metadata": {
        "id": "2UcAgnhoVnFv"
      }
    },
    {
      "cell_type": "markdown",
      "source": [
        "## Q2."
      ],
      "metadata": {
        "id": "XEjXHHmoz8hB"
      }
    },
    {
      "cell_type": "markdown",
      "source": [
        "Please use the model in Q1, make predictions, and save the predicted probability of `Response` being 1 as a new variable `pred_resp_prob`. Please calculate the mean for `pred_resp_prob` for observations with `Renewal_Offer` being 0. Please calculate the mean for `pred_resp_prob` for observations with `Renewal_Offer` being 1. Please interpret the results."
      ],
      "metadata": {
        "id": "j-pAM8Sw1fP9"
      }
    },
    {
      "cell_type": "code",
      "source": [
        "# Generate predicted probabilities\n",
        "df['pred_resp_prob'] = logit_model.predict()\n",
        "\n",
        "print(df['pred_resp_prob'].head())\n",
        "\n",
        "# Calculate the mean predicted probability for each Renewal_Offer group\n",
        "mean_prob_offer_0 = df[df['Renewal_Offer'] == 0]['pred_resp_prob'].mean()\n",
        "mean_prob_offer_1 = df[df['Renewal_Offer'] == 1]['pred_resp_prob'].mean()\n",
        "\n",
        "# Print the results\n",
        "print(f\"Mean predicted probability for Renewal_Offer 0: {mean_prob_offer_0:.4f}\")\n",
        "print(f\"Mean predicted probability for Renewal_Offer 1: {mean_prob_offer_1:.4f}\")"
      ],
      "metadata": {
        "colab": {
          "base_uri": "https://localhost:8080/"
        },
        "id": "2XL3wKqHWexV",
        "outputId": "558f90f0-e1fa-432d-8061-0e6a9ab72e7a"
      },
      "execution_count": 9,
      "outputs": [
        {
          "output_type": "stream",
          "name": "stdout",
          "text": [
            "0    0.276454\n",
            "1    0.218143\n",
            "2    0.110807\n",
            "3    0.068596\n",
            "4    0.365751\n",
            "Name: pred_resp_prob, dtype: float64\n",
            "Mean predicted probability for Renewal_Offer 0: 0.0260\n",
            "Mean predicted probability for Renewal_Offer 1: 0.1720\n"
          ]
        }
      ]
    },
    {
      "cell_type": "markdown",
      "source": [
        "**Interpretation**\n",
        "\n",
        "**1. `pred_resp_prob` Values**\n",
        "- The `pred_resp_prob` column contains the predicted probabilities for each customer that Response = 1 (ex. the customer renews their insurance policy).\n",
        "\n",
        "**2. Mean Predicted Probability for Each `Renewal_Offer` Group**\n",
        "- For `Renewal_Offer` = 0 (No Discount):\n",
        "  - The mean predicted probability is 0.0260 (2.6%).\n",
        "  - This indicates that, on average, customers who did not receive a discount have a very low likelihood of renewing their policy.\n",
        "- For `Renewal_Offer` = 1 (2% Discount):\n",
        "  - The mean predicted probability is 0.1720 (17.2%).\n",
        "  - This shows that customers who received the 2% discount are much more likely to renew their policy compared to those who received no discount.\n",
        "\n",
        "**3. Comparison and Insights**\n",
        "- The average predicted renewal probability for customers with a 2% discount (`Renewal_Offer` = 1) is significantly higher than that for customers with no discount (`Renewal_Offer` = 0).\n",
        "- Specifically, the mean probability for the discount group is approximately 6.6 times higher than for the no-discount group (0.1720/0.0260 = 6.6).\n",
        "- This result suggests that the 2% discount offer positively impacts the likelihood of renewal.\n",
        "\n",
        "**4. Business Implication**\n",
        "- The analysis supports the use of the 2% discount as an effective incentive for encouraging customers to renew their policies.\n",
        "- The company may consider targeting first-time renewal customers with such offers to improve overall renewal rates, especially since the baseline renewal probability (without a discount) is extremely low."
      ],
      "metadata": {
        "id": "kNRI5jsnjHbX"
      }
    },
    {
      "cell_type": "markdown",
      "source": [
        "## Q3."
      ],
      "metadata": {
        "id": "o4xrCmVx0FeT"
      }
    },
    {
      "cell_type": "markdown",
      "source": [
        " Please use the model in Q1. Please create 10 deciles (in reverse order from decile 1 to decile 10) based on the new variable `pred_resp_prob`, and save this variable that indicates the 10 deciles. Please create a decile lift chart. Please interpret the chart. How many deciles have actual response rate higher than 20%?"
      ],
      "metadata": {
        "id": "D8i3UMb-0JmM"
      }
    },
    {
      "cell_type": "code",
      "source": [
        "# Step 1: Create Deciles (Reverse Order)\n",
        "# Sort data by predicted probabilities in descending order\n",
        "df = df.sort_values('pred_resp_prob', ascending=False).reset_index(drop=True)\n",
        "\n",
        "# Create deciles: 10 groups based on `pred_resp_prob`\n",
        "df['decile'] = pd.qcut(df['pred_resp_prob'], 10, labels=range(10, 0, -1))\n",
        "\n",
        "# Step 2: Calculate Actual Response Rate for Each Decile\n",
        "decile_summary = df.groupby('decile').agg(\n",
        "    total_customers=('Response', 'size'),\n",
        "    actual_responses=('Response', 'sum'),\n",
        "    mean_pred_prob=('pred_resp_prob', 'mean'),\n",
        ")\n",
        "\n",
        "decile_summary['actual_response_rate'] = decile_summary['actual_responses'] / decile_summary['total_customers']\n",
        "\n",
        "# Step 3: Plot Decile Lift Chart\n",
        "plt.figure(figsize=(10, 6))\n",
        "plt.plot(decile_summary.index.astype(int), decile_summary['actual_response_rate'] * 100, marker='o')\n",
        "plt.title('Decile Lift Chart', fontsize=16)\n",
        "plt.xlabel('Decile (1 = Highest Predicted Probability)', fontsize=12)\n",
        "plt.ylabel('Actual Response Rate (%)', fontsize=12)\n",
        "plt.grid(True)\n",
        "plt.show()\n",
        "\n",
        "# Step 4: Count Deciles with Actual Response Rate > 20%\n",
        "high_response_deciles = (decile_summary['actual_response_rate'] > 0.20).sum()\n",
        "\n",
        "print(f\"Number of deciles with actual response rate higher than 20%: {high_response_deciles}\")"
      ],
      "metadata": {
        "colab": {
          "base_uri": "https://localhost:8080/",
          "height": 568
        },
        "id": "YUPqUOTKa5X3",
        "outputId": "3cb889ca-4e52-43c3-94cb-9f4200bebd6d"
      },
      "execution_count": 10,
      "outputs": [
        {
          "output_type": "stream",
          "name": "stderr",
          "text": [
            "<ipython-input-10-4537b54eb816>:9: FutureWarning: The default of observed=False is deprecated and will be changed to True in a future version of pandas. Pass observed=False to retain current behavior or observed=True to adopt the future default and silence this warning.\n",
            "  decile_summary = df.groupby('decile').agg(\n"
          ]
        },
        {
          "output_type": "display_data",
          "data": {
            "text/plain": [
              "<Figure size 1000x600 with 1 Axes>"
            ],
            "image/png": "[encoded data removed]"
          },
          "metadata": {}
        },
        {
          "output_type": "stream",
          "name": "stdout",
          "text": [
            "Number of deciles with actual response rate higher than 20%: 2\n"
          ]
        }
      ]
    },
    {
      "cell_type": "markdown",
      "source": [
        "**Interpretation of the Decile Lift Chart**\n",
        "\n",
        "The chart shows the actual response rate (percentage of customers who renewed their policy) for each decile, ranked by predicted probabilities (`pred_resp_prob`) from highest to lowest.\n",
        "\n",
        "1. Top Deciles (Deciles 1–2)\n",
        "- Decile 1 has an actual response rate of approximately 40%, the highest among all deciles.\n",
        "- Decile 2 has an actual response rate of approximately 30%.\n",
        "- These deciles represent the top 20% of customers with the highest predicted probabilities of renewing, and the actual response rate confirms the model’s ability to identify high-response customers effectively.\n",
        "\n",
        "2. Middle Deciles (Deciles 3–7)\n",
        "- The actual response rate drops significantly in these deciles, with rates stabilizing below 20%.\n",
        "- These deciles represent customers with moderate predicted probabilities, and the actual response rates align with this prediction.\n",
        "\n",
        "3.\tLower Deciles (Deciles 8–10)\n",
        "- The actual response rate is close to 0% in these deciles, indicating that customers with low predicted probabilities of renewal rarely renew their policies.\n",
        "- This demonstrates that the model effectively distinguishes low-response customers.\n",
        "\n",
        "**How Many Deciles Have Actual Response Rates Higher Than 20%?**\n",
        "\n",
        "- From the chart, Decile 1 and Decile 2 have actual response rates exceeding 20%.\n",
        "- Therefore, there are **2 deciles** with response rates **higher than 20%**.\n",
        "\n",
        "**Business Insights**\n",
        "\n",
        "1. Effective Targeting:\n",
        "- The top two deciles (Deciles 1 and 2) show much higher response rates compared to others, suggesting these customers are the most likely to renew.\n",
        "- The company should focus its targeted renewal offers (ex. 2% discounts) on customers in these deciles to maximize effectiveness and cost-efficiency.\n",
        "\n",
        "2. Resource Allocation:\n",
        "- For deciles 3 and below, response rates drop significantly, making it less effective to allocate marketing resources for renewal offers in these groups.\n",
        "\n",
        "3. Model Validation:\n",
        "- The lift chart validates the model’s ability to rank customers by renewal likelihood, as the actual response rates align with the predicted probabilities."
      ],
      "metadata": {
        "id": "IW9u6H1DXa8v"
      }
    },
    {
      "cell_type": "markdown",
      "source": [
        "## Q4."
      ],
      "metadata": {
        "id": "CZnUKbR_0Lt7"
      }
    },
    {
      "cell_type": "markdown",
      "source": [
        " Please use the model in Q1. Please use 0.2 as the cutoff and recode `pred_resp_prob` into a dummy variable that is 1 for values higher than or equal to 0.2 and 0 otherwise. What is the sensitivity? What is the specificity? If we increase this cutoff, would sensitivity increase or decrease? If we increase this cutoff, would specificity increase or decrease?"
      ],
      "metadata": {
        "id": "1aJlLFia0Of4"
      }
    },
    {
      "cell_type": "code",
      "source": [
        "from sklearn.metrics import confusion_matrix\n",
        "\n",
        "# Step 1: Recode pred_resp_prob into a dummy variable based on the cutoff\n",
        "df['predicted_dummy'] = (df['pred_resp_prob'] >= 0.2).astype(int)\n",
        "\n",
        "# Step 2: Calculate the confusion matrix\n",
        "cm = confusion_matrix(df['Response'], df['predicted_dummy'], labels=[1, 0])  # Order: Positive, Negative\n",
        "\n",
        "# Extract true positives, false positives, true negatives, and false negatives\n",
        "tp = cm[0, 0]  # True Positives\n",
        "fn = cm[0, 1]  # False Negatives\n",
        "fp = cm[1, 0]  # False Positives\n",
        "tn = cm[1, 1]  # True Negatives\n",
        "\n",
        "# Step 3: Calculate sensitivity and specificity\n",
        "sensitivity = tp / (tp + fn)  # Sensitivity = TP / (TP + FN)\n",
        "specificity = tn / (tn + fp)  # Specificity = TN / (TN + FP)\n",
        "\n",
        "# Step 4: Display results\n",
        "print(f\"Sensitivity: {sensitivity:.4f}\")\n",
        "print(f\"Specificity: {specificity:.4f}\")"
      ],
      "metadata": {
        "id": "h92JciDg1qiq",
        "colab": {
          "base_uri": "https://localhost:8080/"
        },
        "outputId": "c3ddf5ec-c9ad-4ba7-80aa-ddd85a68da20"
      },
      "execution_count": 11,
      "outputs": [
        {
          "output_type": "stream",
          "name": "stdout",
          "text": [
            "Sensitivity: 0.6667\n",
            "Specificity: 0.8746\n"
          ]
        }
      ]
    },
    {
      "cell_type": "markdown",
      "source": [
        "**If we increase this cutoff, would sensitivity increase or decrease? If we increase this cutoff, would specificity increase or decrease?**\n",
        "\n",
        "Based on the provided sensitivity (0.6667) and specificity (0.8746), here’s how changing the cutoff affects sensitivity and specificity:\n",
        "\n",
        "**[Effect of Increasing the Cutoff]**\n",
        "\n",
        "**1. Sensitivity:**\n",
        "- **Sensitivity will decrease.**\n",
        "When the cutoff is increased, fewer predicted probabilities(`pred_resp_prob`) meet or exceed the threshold to be classified as 1.\n",
        "- This results in:\n",
        "  - More false negatives(FN) (actual 1s classified as 0).\n",
        "  - Fewer true positives(TP).\n",
        "- Sensitivity, which is the proportion of true positives among actual positives(TP/(TP+FN)), will decrease because the numerator(TP) decreases while the denominator remains constant.\n",
        "\n",
        "**2. Specificity:**\n",
        "- **Specificity will increase.**\n",
        "When the cutoff is increased, more predicted probabilities fall below the threshold and are classified as 0.\n",
        "- This results in:\n",
        "  - Fewer false positives(FP) (actual 0s classified as 1).\n",
        "  - More true negatives(TN).\n",
        "- Specificity, which is the proportion of true negatives among actual negatives(TN/(TN+FP)), will increase because the numerator(TN) increases while the denominator remains constant.\n",
        "\n",
        "> Increasing the cutoff decreases sensitivity and increases specificity. This trade-off reflects the balance between correctly identifying positives (sensitivity) and negatives (specificity).\n",
        "\n",
        "**[Business Implication]**\n",
        "\n",
        "- If the company values identifying as many renewing customers as possible(high sensitivity), it should use a lower cutoff.\n",
        "- If the company values avoiding offering discounts to non-renewing customers(high specificity), it should use a higher cutoff."
      ],
      "metadata": {
        "id": "R_uuR2hnslwc"
      }
    },
    {
      "cell_type": "markdown",
      "source": [
        "## Q5."
      ],
      "metadata": {
        "id": "hXoyYwsT0Qr-"
      }
    },
    {
      "cell_type": "markdown",
      "source": [
        "Please use the model in Q1. Please predict the probability of response for each customer with `Renewal Offer` 0 and with `Renewal Offer` 1. Calculate the additional annual revenue generated by offering each customer `Renewal Offer` 1 instead of `Renewal Offer` 0, and save the results as `RevenueLift`. Please analyze `RevenueLift` and other variables. What insights can you derive from this analysis?"
      ],
      "metadata": {
        "id": "Gwoj2xuf0SNR"
      }
    },
    {
      "cell_type": "code",
      "source": [
        "# Create a copy of the dataset to simulate Renewal Offer scenarios\n",
        "df_offer_0 = df.copy()\n",
        "df_offer_1 = df.copy()\n",
        "\n",
        "# Set Renewal Offer to 0 and 1 for prediction\n",
        "df_offer_0['Renewal_Offer'] = 0\n",
        "df_offer_1['Renewal_Offer'] = 1\n",
        "\n",
        "# Predict probabilities for both scenarios\n",
        "df_offer_0['pred_resp_prob_0'] = logit_model.predict(df_offer_0)\n",
        "df_offer_1['pred_resp_prob_1'] = logit_model.predict(df_offer_1)\n",
        "\n",
        "# Calculate RevenueLift\n",
        "df['RevenueLift'] = (\n",
        "    (df_offer_1['pred_resp_prob_1'] - df_offer_0['pred_resp_prob_0']) * df['Monthly_Premium_Auto'] * 12\n",
        ")\n",
        "\n",
        "# Analyze RevenueLift\n",
        "revenue_lift_summary = df['RevenueLift'].describe()\n",
        "\n",
        "# Print summary of RevenueLift\n",
        "print(\"RevenueLift Summary:\")\n",
        "print(revenue_lift_summary)\n",
        "\n",
        "# Correlation analysis\n",
        "correlation_matrix = df[['RevenueLift', 'Monthly_Premium_Auto', 'pred_resp_prob']].corr()\n",
        "print(\"\\nCorrelation Matrix:\")\n",
        "print(correlation_matrix)\n",
        "\n",
        "# Visualize RevenueLift distribution\n",
        "import matplotlib.pyplot as plt\n",
        "plt.figure(figsize=(10, 6))\n",
        "plt.hist(df['RevenueLift'], bins=30, edgecolor='black')\n",
        "plt.title('RevenueLift Distribution', fontsize=16)\n",
        "plt.xlabel('RevenueLift ($)', fontsize=12)\n",
        "plt.ylabel('Frequency', fontsize=12)\n",
        "plt.grid(True)\n",
        "plt.show()"
      ],
      "metadata": {
        "id": "eT1-6gaF1rHV",
        "colab": {
          "base_uri": "https://localhost:8080/",
          "height": 774
        },
        "outputId": "8a24ac69-d1d9-4a09-da0d-6d9f9f10f21b"
      },
      "execution_count": 12,
      "outputs": [
        {
          "output_type": "stream",
          "name": "stdout",
          "text": [
            "RevenueLift Summary:\n",
            "count    1.000000e+03\n",
            "mean     1.581531e+02\n",
            "std      1.735311e+02\n",
            "min      1.400169e-13\n",
            "25%      4.144540e+01\n",
            "50%      1.022873e+02\n",
            "75%      2.163246e+02\n",
            "max      1.362095e+03\n",
            "Name: RevenueLift, dtype: float64\n",
            "\n",
            "Correlation Matrix:\n",
            "                      RevenueLift  Monthly_Premium_Auto  pred_resp_prob\n",
            "RevenueLift              1.000000              0.445899        0.625666\n",
            "Monthly_Premium_Auto     0.445899              1.000000        0.050969\n",
            "pred_resp_prob           0.625666              0.050969        1.000000\n"
          ]
        },
        {
          "output_type": "display_data",
          "data": {
            "text/plain": [
              "<Figure size 1000x600 with 1 Axes>"
            ],
            "image/png": "[encoded data removed]"
          },
          "metadata": {}
        }
      ]
    },
    {
      "cell_type": "markdown",
      "source": [
        "**Analysis of RevenueLift**\n",
        "\n",
        "1. RevenueLift Distribution\n",
        "\n",
        "- Summary Statistics:\n",
        "  - Mean RevenueLift: 158.15 dollars per customer\n",
        "  - Median RevenueLift(50th Percentile): 102.29 dollars, showing that half of the customers have a lift less than this amount.\n",
        "  - 25th Percentile: 41.44 dollars, indicating that a quarter of the customers have a RevenueLift less than this.\n",
        "  - 75th Percentile: 216.32 dollars, showing the top quarter of customers with higher lift values.\n",
        "  - Maximum RevenueLift: 1,362.09 dollars, representing the customer with the largest additional revenue potential from the 2% discount.\n",
        "\n",
        "- Distribution Insights:\n",
        "  - The histogram indicates a right-skewed distribution, where the majority of customers have a low to moderate RevenueLift, while a smaller number of customers have very high RevenueLift.\n",
        "  - A significant portion of the lift is concentrated in the lower range (0~200 dollars), suggesting that for many customers, the 2% discount provides limited additional revenue.\n",
        "\n",
        "2. Correlation Matrix\n",
        "\n",
        "- RevenueLift vs. Monthly_Premium_Auto (Correlation = 0.4459):\n",
        "  - Positive correlation indicates that customers with higher monthly premiums tend to have higher RevenueLift. This is expected since RevenueLift depends on annual premiums (Monthly_Premium_Auto × 12).\n",
        "- RevenueLift vs. pred_resp_prob (Correlation = 0.6257):\n",
        "  - Strong positive correlation suggests that customers who already have a high probability of renewal (pred_resp_prob) tend to experience higher RevenueLift.\n",
        "  - This highlights that targeting customers with high baseline probabilities still results in additional revenue gains with the discount.\n",
        "- Monthly_Premium_Auto vs. pred_resp_prob (Correlation = 0.0510):\n",
        "  - Weak correlation suggests that monthly premiums are not strongly related to the baseline renewal probability.\n",
        "\n",
        "**Insights**\n",
        "\n",
        "1. Customer Segmentation Based on RevenueLift:\n",
        "- High RevenueLift Customers:\n",
        "  - Customers in the top quartile (216.32~1,362.09 dollars) are prime candidates for targeted discounts.\n",
        "  - These customers provide significant additional revenue, especially those with high Monthly_Premium_Auto.\n",
        "- Low RevenueLift Customers:\n",
        "  - Customers with RevenueLift near 0 dollars (ex. first quartile) may not justify the cost of offering discounts.\n",
        "  - Alternative strategies (ex. focusing on other engagement methods) might be more effective for these customers.\n",
        "\n",
        "2. Premium-Based Targeting:\n",
        "- Customers with higher Monthly_Premium_Auto values yield higher RevenueLift, indicating that targeting high-premium customers with discounts provides better revenue outcomes.\n",
        "\n",
        "3. Predicted Probabilities and RevenueLift:\n",
        "- The strong correlation between pred_resp_prob and RevenueLift suggests that even customers with higher renewal probabilities can still generate significant incremental revenue with the discount.\n",
        "- It may be beneficial to include these customers in the target audience for the 2% discount.\n",
        "\n",
        "4.\tEfficiency of Discount Allocation:\n",
        "- The skewed distribution indicates that only a subset of customers benefits significantly from the discount.\n",
        "- Prioritizing high-premium and high-lift customers ensures marketing resources are allocated efficiently.\n",
        "\n",
        "\n",
        "**Recommendations**\n",
        "\n",
        "1. Focus on High RevenueLift Customers:\n",
        "- Target the top quartile of customers with personalized renewal offers.\n",
        "- Use Monthly_Premium_Auto and pred_resp_prob as segmentation variables to identify these customers.\n",
        "\n",
        "2. Refine Discount Strategy:\n",
        "- Consider offering tiered discounts for different customer groups, as not all customers contribute equally to revenue lift.\n",
        "\n",
        "3. Alternative Approaches for Low-Lift Customers:\n",
        "- For customers in the lower quartiles, explore non-discount methods like improved engagement or loyalty programs to boost renewal rates."
      ],
      "metadata": {
        "id": "nAYFqxu3Ymwu"
      }
    },
    {
      "cell_type": "markdown",
      "source": [
        "## Q6."
      ],
      "metadata": {
        "id": "933vtpIR0Ung"
      }
    },
    {
      "cell_type": "markdown",
      "source": [
        "Please use the model in Q1. Assume we are focusing our retention efforts on customers in decile 2. Using the cash flows over the next 6 years, calculate the Customer Lifetime Value (CLV). Assume that annual profit equals 15% of annual insurance premium, and the interest rate is 6%. Additionally, assume the same renewal offer is provided annually to each customer over the next 6 years. For each customer, calculate the CLV with `Renewal Offer` 0, the CLV with `Renewal Offer` 1, and the incremental CLV."
      ],
      "metadata": {
        "id": "8tIEl0W60XQn"
      }
    },
    {
      "cell_type": "code",
      "source": [
        "# Filter for Decile 2 customers\n",
        "decile_2_customers = df[df['decile'] == 2].copy()\n",
        "\n",
        "# Constants\n",
        "profit_margin = 0.15  # 15% of annual premium\n",
        "interest_rate = 0.06  # 6% discount rate\n",
        "years = 6  # 6 years of cash flow\n",
        "\n",
        "# Calculate annual profit (Monthly Premium × 12 × Profit Margin)\n",
        "decile_2_customers['Annual_Profit'] = decile_2_customers['Monthly_Premium_Auto'] * 12 * profit_margin\n",
        "\n",
        "# Merge Renewal Offer probabilities from df_offer_0 and df_offer_1\n",
        "# Merge 'pred_resp_prob_0' from df_offer_0 based on 'Customer' ID\n",
        "decile_2_customers = decile_2_customers.merge(\n",
        "    df_offer_0[['Customer', 'pred_resp_prob_0']], on='Customer', how='left'\n",
        ")\n",
        "# Merge 'pred_resp_prob_1' from df_offer_1 based on 'Customer' ID\n",
        "decile_2_customers = decile_2_customers.merge(\n",
        "    df_offer_1[['Customer', 'pred_resp_prob_1']], on='Customer', how='left'\n",
        ")\n",
        "\n",
        "# Function to calculate CLV for a given customer\n",
        "def calculate_clv(profit, renew_prob, years, interest_rate):\n",
        "    \"\"\"Calculate CLV for a customer over a given time horizon.\"\"\"\n",
        "    return sum((profit * renew_prob) / ((1 + interest_rate) ** t) for t in range(1, years + 1))\n",
        "\n",
        "# Calculate CLV for Renewal Offer 0\n",
        "decile_2_customers['CLV_Offer_0'] = decile_2_customers.apply(\n",
        "    lambda x: calculate_clv(x['Annual_Profit'], x['pred_resp_prob_0'], years, interest_rate), axis=1\n",
        ")\n",
        "\n",
        "# Calculate CLV for Renewal Offer 1\n",
        "decile_2_customers['CLV_Offer_1'] = decile_2_customers.apply(\n",
        "    lambda x: calculate_clv(x['Annual_Profit'], x['pred_resp_prob_1'], years, interest_rate), axis=1\n",
        ")\n",
        "\n",
        "# Calculate Incremental CLV (difference between Offer 1 and Offer 0)\n",
        "decile_2_customers['Incremental_CLV'] = (\n",
        "    decile_2_customers['CLV_Offer_1'] - decile_2_customers['CLV_Offer_0']\n",
        ")\n",
        "\n",
        "# Summary statistics for CLV\n",
        "clv_summary = decile_2_customers[['CLV_Offer_0', 'CLV_Offer_1', 'Incremental_CLV']].describe()\n",
        "print(\"CLV Summary:\")\n",
        "print(clv_summary)\n",
        "\n",
        "# Visualize Incremental CLV distribution\n",
        "import matplotlib.pyplot as plt\n",
        "plt.figure(figsize=(10, 6))\n",
        "plt.hist(decile_2_customers['Incremental_CLV'], bins=30, edgecolor='black')\n",
        "plt.title('Incremental CLV Distribution for Decile 2', fontsize=16)\n",
        "plt.xlabel('Incremental CLV ($)', fontsize=12)\n",
        "plt.ylabel('Frequency', fontsize=12)\n",
        "plt.grid(True)\n",
        "plt.show()"
      ],
      "metadata": {
        "id": "czMEmY481r-h",
        "colab": {
          "base_uri": "https://localhost:8080/",
          "height": 665
        },
        "outputId": "0e987e14-5f39-474a-9da4-9d50fbf5497f"
      },
      "execution_count": 16,
      "outputs": [
        {
          "output_type": "stream",
          "name": "stdout",
          "text": [
            "CLV Summary:\n",
            "       CLV_Offer_0  CLV_Offer_1  Incremental_CLV\n",
            "count   100.000000   100.000000       100.000000\n",
            "mean     33.610839   210.475677       176.864838\n",
            "std      31.746594   105.889721        78.686411\n",
            "min      12.378706    98.583980        86.205274\n",
            "25%      19.109655   144.622488       125.063619\n",
            "50%      23.735199   175.349160       152.108734\n",
            "75%      30.590210   230.353461       199.896175\n",
            "max     208.019737   767.021390       559.001653\n"
          ]
        },
        {
          "output_type": "display_data",
          "data": {
            "text/plain": [
              "<Figure size 1000x600 with 1 Axes>"
            ],
            "image/png": "[encoded data removed]"
          },
          "metadata": {}
        }
      ]
    },
    {
      "cell_type": "markdown",
      "source": [
        "**1. Summary of Results**\n",
        "\n",
        "**CLV with Renewal Offer 0 (CLV_Offer_0)**\n",
        "\n",
        "- Mean: 33.61 dollars\n",
        "- Range: From 12.38 to 208.02 dollars\n",
        "- Observation: Without a discount, customers in Decile 2 have a relatively low CLV due to lower renewal probabilities. This indicates that focusing retention efforts solely on these customers without incentives may not yield significant long-term profits.\n",
        "\n",
        "**CLV with Renewal Offer 1 (CLV_Offer_1)**\n",
        "\n",
        "- Mean: 210.48 dollars\n",
        "- Range: From 98.58 to 767.02 dollars\n",
        "- Observation: The introduction of the 2% discount significantly increases CLV across all customers in Decile 2. This demonstrates that the discount effectively boosts long-term value by increasing renewal probabilities.\n",
        "\n",
        "**Incremental CLV**\n",
        "\n",
        "- Mean: 176.86 dollars\n",
        "- Range: From 86.20 to 559.00 dollars\n",
        "- Observation: Incremental CLV is positive for all customers, meaning the discount consistently adds value. The large mean incremental CLV indicates that the discount is a profitable strategy for Decile 2 customers.\n",
        "\n",
        "\n",
        "**2. Graph Interpretation**\n",
        "\n",
        "The histogram for Incremental CLV highlights:\n",
        "\n",
        "- **Majority Range:**\n",
        "  - Most customers have incremental CLVs between 100 and 200 dollars.\n",
        "  - This suggests that the 2% discount yields a substantial lift in lifetime value for the majority of Decile 2 customers.\n",
        "- **Outliers:**\n",
        "  - A small number of customers exhibit incremental CLVs above 400 dollars.\n",
        "  - These customers represent high-potential opportunities where the 2% discount generates outsized returns.\n",
        "\n",
        "**3. Insights for Retention Efforts**\n",
        "\n",
        "- Positive Incremental CLV:\n",
        "  - Incremental CLV is positive for all Decile 2 customers, confirming that offering the 2% discount is a profitable retention strategy for this group.\n",
        "  - On average, each Decile 2 customer contributes 176.86 dollars more in lifetime value with the discount.\n",
        "\n",
        "- High CLV Customers:\n",
        "  - Customers with higher incremental CLVs (ex. 300 dollars or more) represent priority targets for retention efforts. These customers yield the greatest financial returns from the 2% discount.\n",
        "\n",
        "- Low CLV Customers:\n",
        "  - Even customers at the lower end (incremental CLV of ~ 86 dollars) benefit from the discount. This suggests the strategy is broadly applicable within Decile 2.\n",
        "- Long-Term Profitability:\n",
        "  - The large increase in mean CLV from 33.61 to 210.48 dollars underscores the long-term profitability of retaining Decile 2 customers with the 2% discount.\n",
        "\n",
        "**Conclusion**\n",
        "\n",
        "The calculated CLV values, incremental CLV, and the provided graph effectively answer the question and provide actionable insights. The results strongly support focusing retention efforts on Decile 2 customers with the 2% discount, as it consistently drives significant long-term value across the customer segment."
      ],
      "metadata": {
        "id": "Szd_FC8ElCT7"
      }
    }
  ]
}