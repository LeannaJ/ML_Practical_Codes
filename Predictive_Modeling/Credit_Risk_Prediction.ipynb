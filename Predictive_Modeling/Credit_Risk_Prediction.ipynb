{
  "nbformat": 4,
  "nbformat_minor": 0,
  "metadata": {
    "colab": {
      "provenance": []
    },
    "kernelspec": {
      "name": "python3",
      "display_name": "Python 3"
    },
    "language_info": {
      "name": "python"
    }
  },
  "cells": [
    {
      "cell_type": "markdown",
      "source": [
        "**Classify Credit Risk**"
      ],
      "metadata": {
        "id": "QH-lyJuzKCy2"
      }
    },
    {
      "cell_type": "code",
      "source": [
        "from google.colab import drive\n",
        "drive.mount('/content/drive')"
      ],
      "metadata": {
        "id": "PB9pE80hKA_F",
        "colab": {
          "base_uri": "https://localhost:8080/"
        },
        "outputId": "d048dc8f-f458-419c-d7ec-34b40e2e3f5b"
      },
      "execution_count": 2,
      "outputs": [
        {
          "output_type": "stream",
          "name": "stdout",
          "text": [
            "Mounted at /content/drive\n"
          ]
        }
      ]
    },
    {
      "cell_type": "code",
      "source": [
        "import os\n",
        "import pandas as pd\n",
        "import numpy as np\n",
        "import seaborn as sns\n",
        "import statsmodels.api as sm\n",
        "import statsmodels.formula.api as smf\n",
        "import matplotlib.pyplot as plt\n",
        "from scipy import stats\n",
        "\n",
        "file_path = '/content/drive/MyDrive/Data/GermanCredit.csv'\n",
        "df = pd.read_csv(file_path)"
      ],
      "metadata": {
        "id": "coSURFnw63-H"
      },
      "execution_count": 3,
      "outputs": []
    },
    {
      "cell_type": "code",
      "source": [
        "print(df.info())\n",
        "print(df.describe())"
      ],
      "metadata": {
        "colab": {
          "base_uri": "https://localhost:8080/"
        },
        "id": "XAHti8Xv_NHY",
        "outputId": "6cf2ce9c-d5e3-4cd7-921a-790e6b251de7"
      },
      "execution_count": 4,
      "outputs": [
        {
          "output_type": "stream",
          "name": "stdout",
          "text": [
            "<class 'pandas.core.frame.DataFrame'>\n",
            "RangeIndex: 1000 entries, 0 to 999\n",
            "Data columns (total 22 columns):\n",
            " #   Column             Non-Null Count  Dtype\n",
            "---  ------             --------------  -----\n",
            " 0   Order              1000 non-null   int64\n",
            " 1   Good               1000 non-null   int64\n",
            " 2   CreditDuration     1000 non-null   int64\n",
            " 3   CreditPurpose      1000 non-null   int64\n",
            " 4   CreditAmount       1000 non-null   int64\n",
            " 5   InstallmentPct     1000 non-null   int64\n",
            " 6   DebtorGuarantor    1000 non-null   int64\n",
            " 7   CheckingAccount    1000 non-null   int64\n",
            " 8   SavingsAccount     1000 non-null   int64\n",
            " 9   CreditHistory      1000 non-null   int64\n",
            " 10  ExistingCredit     1000 non-null   int64\n",
            " 11  OtherInstallment   1000 non-null   int64\n",
            " 12  Age                1000 non-null   int64\n",
            " 13  Female             1000 non-null   int64\n",
            " 14  Employment         1000 non-null   int64\n",
            " 15  ResidenceYears     1000 non-null   int64\n",
            " 16  PropertyOwnership  1000 non-null   int64\n",
            " 17  Housing            1000 non-null   int64\n",
            " 18  Job                1000 non-null   int64\n",
            " 19  Dependent          1000 non-null   int64\n",
            " 20  Telephone          1000 non-null   int64\n",
            " 21  ForeignWorker      1000 non-null   int64\n",
            "dtypes: int64(22)\n",
            "memory usage: 172.0 KB\n",
            "None\n",
            "             Order         Good  CreditDuration  CreditPurpose  CreditAmount  \\\n",
            "count  1000.000000  1000.000000     1000.000000    1000.000000   1000.000000   \n",
            "mean    499.500000     0.700000       20.903000       2.710000   3271.258000   \n",
            "std     288.819436     0.458487       12.058814       2.484366   2822.736876   \n",
            "min       0.000000     0.000000        4.000000       0.000000    250.000000   \n",
            "25%     249.750000     0.000000       12.000000       1.000000   1365.500000   \n",
            "50%     499.500000     1.000000       18.000000       2.000000   2319.500000   \n",
            "75%     749.250000     1.000000       24.000000       3.000000   3972.250000   \n",
            "max     999.000000     1.000000       72.000000       9.000000  18424.000000   \n",
            "\n",
            "       InstallmentPct  DebtorGuarantor  CheckingAccount  SavingsAccount  \\\n",
            "count     1000.000000      1000.000000      1000.000000     1000.000000   \n",
            "mean         2.973000         0.145000         1.001000        1.190000   \n",
            "std          1.118715         0.477706         0.957034        0.966869   \n",
            "min          1.000000         0.000000         0.000000        0.000000   \n",
            "25%          2.000000         0.000000         0.000000        1.000000   \n",
            "50%          3.000000         0.000000         1.000000        1.000000   \n",
            "75%          4.000000         0.000000         2.000000        1.000000   \n",
            "max          4.000000         2.000000         3.000000        4.000000   \n",
            "\n",
            "       CreditHistory  ...          Age       Female   Employment  \\\n",
            "count     1000.00000  ...  1000.000000  1000.000000  1000.000000   \n",
            "mean         2.54500  ...    35.546000     0.310000     2.384000   \n",
            "std          1.08312  ...    11.375469     0.462725     1.208306   \n",
            "min          0.00000  ...    19.000000     0.000000     0.000000   \n",
            "25%          2.00000  ...    27.000000     0.000000     2.000000   \n",
            "50%          2.00000  ...    33.000000     0.000000     2.000000   \n",
            "75%          4.00000  ...    42.000000     1.000000     4.000000   \n",
            "max          4.00000  ...    75.000000     1.000000     4.000000   \n",
            "\n",
            "       ResidenceYears  PropertyOwnership      Housing          Job  \\\n",
            "count     1000.000000        1000.000000  1000.000000  1000.000000   \n",
            "mean         2.845000           1.742000     1.605000     1.904000   \n",
            "std          1.103718           1.079167     0.674856     0.653614   \n",
            "min          1.000000           0.000000     0.000000     0.000000   \n",
            "25%          2.000000           1.000000     1.000000     2.000000   \n",
            "50%          3.000000           2.000000     2.000000     2.000000   \n",
            "75%          4.000000           3.000000     2.000000     2.000000   \n",
            "max          4.000000           3.000000     2.000000     3.000000   \n",
            "\n",
            "         Dependent    Telephone  ForeignWorker  \n",
            "count  1000.000000  1000.000000    1000.000000  \n",
            "mean      1.155000     0.404000       0.963000  \n",
            "std       0.362086     0.490943       0.188856  \n",
            "min       1.000000     0.000000       0.000000  \n",
            "25%       1.000000     0.000000       1.000000  \n",
            "50%       1.000000     0.000000       1.000000  \n",
            "75%       1.000000     1.000000       1.000000  \n",
            "max       2.000000     1.000000       1.000000  \n",
            "\n",
            "[8 rows x 22 columns]\n"
          ]
        }
      ]
    },
    {
      "cell_type": "code",
      "source": [
        "print(\"Missing Values:\\n\", df.isna().sum())"
      ],
      "metadata": {
        "colab": {
          "base_uri": "https://localhost:8080/"
        },
        "id": "qebBXbRmAuiO",
        "outputId": "4a95f898-b5c6-4f35-f4b5-75db17297d99"
      },
      "execution_count": 5,
      "outputs": [
        {
          "output_type": "stream",
          "name": "stdout",
          "text": [
            "Missing Values:\n",
            " Order                0\n",
            "Good                 0\n",
            "CreditDuration       0\n",
            "CreditPurpose        0\n",
            "CreditAmount         0\n",
            "InstallmentPct       0\n",
            "DebtorGuarantor      0\n",
            "CheckingAccount      0\n",
            "SavingsAccount       0\n",
            "CreditHistory        0\n",
            "ExistingCredit       0\n",
            "OtherInstallment     0\n",
            "Age                  0\n",
            "Female               0\n",
            "Employment           0\n",
            "ResidenceYears       0\n",
            "PropertyOwnership    0\n",
            "Housing              0\n",
            "Job                  0\n",
            "Dependent            0\n",
            "Telephone            0\n",
            "ForeignWorker        0\n",
            "dtype: int64\n"
          ]
        }
      ]
    },
    {
      "cell_type": "markdown",
      "source": [
        "# Part1 : Training"
      ],
      "metadata": {
        "id": "upI5kZ8Qzscz"
      }
    },
    {
      "cell_type": "markdown",
      "source": [
        "Please use the first 800 observation as the training set, and the last 200 observations as the validation set. Please do not preprocess the data in this assignment.\n",
        "\n",
        "Your interpretation for any non-intercept coefficients should follow the interpretation shown in the class. Please point out the baseline group and the focal group when applicable.\n",
        "\n",
        "Please use only the training set for Questions 1 to 6."
      ],
      "metadata": {
        "id": "BgymzvJ5_Ww3"
      }
    },
    {
      "cell_type": "markdown",
      "source": [
        "## Q1."
      ],
      "metadata": {
        "id": "0MYVxRwdzxXH"
      }
    },
    {
      "cell_type": "markdown",
      "source": [
        "Please use the training set and build a logistic regression model for the event that the consumer being a good credit risk (i.e., Good=1), with all the variables from CreditDuration to ForeignWorker being independent variables. Please interpret the coefficients on CreditPurpose=1 and InstallmentPct. (Note: Think carefully about which variables are categorical and which variables are numeric. The code created by generative AI tools may not use categorical and numeric variables in the right way. You may need to tweak your prompt to get the correct code.)"
      ],
      "metadata": {
        "id": "EaWPdbEOz6Mu"
      }
    },
    {
      "cell_type": "code",
      "source": [
        "# Split train and validation set\n",
        "train_df = df.iloc[:800]\n",
        "validation_df = df.iloc[800:]\n",
        "\n",
        "formula = (\n",
        "    \"Good ~ CreditDuration + C(CreditPurpose) + CreditAmount + InstallmentPct + \"\n",
        "    \"C(DebtorGuarantor) + CheckingAccount + SavingsAccount + C(CreditHistory) + \"\n",
        "    \"ExistingCredit + C(OtherInstallment) + Age + Female + Employment + \"\n",
        "    \"ResidenceYears + C(PropertyOwnership) + C(Housing) + C(Job) + Dependent + \"\n",
        "    \"Telephone + ForeignWorker\"\n",
        ")\n",
        "\n",
        "logit_model = smf.logit(formula=formula, data=train_df).fit()\n",
        "print(logit_model.summary())"
      ],
      "metadata": {
        "id": "ganqNzUC1Ji4",
        "colab": {
          "base_uri": "https://localhost:8080/"
        },
        "outputId": "f7199f98-f53e-4e7a-9baf-0f8c3d62c6fa"
      },
      "execution_count": 28,
      "outputs": [
        {
          "output_type": "stream",
          "name": "stdout",
          "text": [
            "Optimization terminated successfully.\n",
            "         Current function value: 0.486844\n",
            "         Iterations 7\n",
            "                           Logit Regression Results                           \n",
            "==============================================================================\n",
            "Dep. Variable:                   Good   No. Observations:                  800\n",
            "Model:                          Logit   Df Residuals:                      761\n",
            "Method:                           MLE   Df Model:                           38\n",
            "Date:                Wed, 20 Nov 2024   Pseudo R-squ.:                  0.2030\n",
            "Time:                        03:08:40   Log-Likelihood:                -389.47\n",
            "converged:                       True   LL-Null:                       -488.69\n",
            "Covariance Type:            nonrobust   LLR p-value:                 1.345e-23\n",
            "=============================================================================================\n",
            "                                coef    std err          z      P>|z|      [0.025      0.975]\n",
            "---------------------------------------------------------------------------------------------\n",
            "Intercept                     3.7999      1.291      2.943      0.003       1.270       6.330\n",
            "C(CreditPurpose)[T.1]         1.5126      0.400      3.786      0.000       0.730       2.296\n",
            "C(CreditPurpose)[T.2]         0.4710      0.277      1.698      0.090      -0.073       1.015\n",
            "C(CreditPurpose)[T.3]         0.8502      0.260      3.264      0.001       0.340       1.361\n",
            "C(CreditPurpose)[T.4]         0.2942      0.730      0.403      0.687      -1.137       1.725\n",
            "C(CreditPurpose)[T.5]         0.2291      0.588      0.389      0.697      -0.924       1.382\n",
            "C(CreditPurpose)[T.6]         0.1111      0.430      0.258      0.796      -0.732       0.955\n",
            "C(CreditPurpose)[T.7]         1.6606      1.136      1.462      0.144      -0.566       3.887\n",
            "C(CreditPurpose)[T.8]         0.5635      0.348      1.617      0.106      -0.119       1.247\n",
            "C(CreditPurpose)[T.9]         1.2783      0.778      1.644      0.100      -0.246       2.803\n",
            "C(DebtorGuarantor)[T.1]      -0.5961      0.460     -1.297      0.195      -1.497       0.305\n",
            "C(DebtorGuarantor)[T.2]       1.0132      0.513      1.977      0.048       0.009       2.018\n",
            "C(CreditHistory)[T.1]        -0.4100      0.614     -0.668      0.504      -1.613       0.793\n",
            "C(CreditHistory)[T.2]         0.5973      0.473      1.262      0.207      -0.330       1.525\n",
            "C(CreditHistory)[T.3]         1.1369      0.517      2.200      0.028       0.124       2.150\n",
            "C(CreditHistory)[T.4]         1.6073      0.490      3.283      0.001       0.648       2.567\n",
            "C(OtherInstallment)[T.1]     -0.5828      0.263     -2.213      0.027      -1.099      -0.067\n",
            "C(OtherInstallment)[T.2]     -0.4584      0.388     -1.180      0.238      -1.220       0.303\n",
            "C(PropertyOwnership)[T.1]     0.6788      0.439      1.548      0.122      -0.181       1.538\n",
            "C(PropertyOwnership)[T.2]     0.4139      0.427      0.970      0.332      -0.423       1.251\n",
            "C(PropertyOwnership)[T.3]     0.3831      0.407      0.940      0.347      -0.415       1.182\n",
            "C(Housing)[T.1]              -0.4285      0.490     -0.875      0.382      -1.388       0.531\n",
            "C(Housing)[T.2]               0.1236      0.466      0.266      0.791      -0.789       1.036\n",
            "C(Job)[T.1]                  -0.9720      0.667     -1.456      0.145      -2.280       0.336\n",
            "C(Job)[T.2]                  -1.0466      0.651     -1.607      0.108      -2.323       0.230\n",
            "C(Job)[T.3]                  -1.0990      0.680     -1.617      0.106      -2.431       0.233\n",
            "CreditDuration               -0.0198      0.010     -2.003      0.045      -0.039      -0.000\n",
            "CreditAmount                 -0.0001   4.68e-05     -2.525      0.012      -0.000   -2.64e-05\n",
            "InstallmentPct               -0.3633      0.097     -3.745      0.000      -0.553      -0.173\n",
            "CheckingAccount              -0.4243      0.097     -4.385      0.000      -0.614      -0.235\n",
            "SavingsAccount                0.1016      0.097      1.042      0.297      -0.089       0.293\n",
            "ExistingCredit               -0.5607      0.210     -2.668      0.008      -0.972      -0.149\n",
            "Age                           0.0191      0.009      2.037      0.042       0.001       0.038\n",
            "Female                       -0.3462      0.203     -1.708      0.088      -0.744       0.051\n",
            "Employment                    0.2190      0.085      2.590      0.010       0.053       0.385\n",
            "ResidenceYears               -0.0869      0.093     -0.938      0.348      -0.269       0.095\n",
            "Dependent                    -0.2925      0.273     -1.073      0.283      -0.827       0.242\n",
            "Telephone                     0.5116      0.209      2.449      0.014       0.102       0.921\n",
            "ForeignWorker                -1.2640      0.697     -1.814      0.070      -2.630       0.102\n",
            "=============================================================================================\n"
          ]
        }
      ]
    },
    {
      "cell_type": "markdown",
      "source": [
        "**1. Coefficient for CreditPurpose=1**\n",
        "- Baseline Group: The baseline for CreditPurpose is CreditPurpose=0 (new car).\n",
        "- Focal Group: The coefficient for CreditPurpose=1 (used car) is 1.5126.\n",
        "- Interpretation\n",
        "1. When the credit purpose changes from a new car (baseline) to a used car, the log odds of being a good credit risk (Good=1) increase by 1.5126, holding all other variables constant.\n",
        "2. This suggests that individuals applying for credit for a used car are more likely to be good credit risks compared to those applying for a new car, assuming other factors remain the same.\n",
        "3. Statistical Significance: The p-value is 0.000, indicating that this effect is statistically significant at the 1% level.\n",
        "\n",
        "**2. Coefficient for InstallmentPct**\n",
        "- Description: InstallmentPct is a continuous variable that represents the percentage of disposable income allocated to installment payments.\n",
        "- Coefficient: The coefficient for InstallmentPct is -0.3633.\n",
        "- Interpretation:\n",
        "1. For every 1% increase in the installment percentage, the log odds of being a good credit risk (Good=1) decrease by 0.3633, holding all other variables constant.\n",
        "2. This indicates that a higher installment burden relative to disposable income is associated with a reduced likelihood of being a good credit risk.\n",
        "3. Statistical Significance: The p-value is 0.001, indicating that this effect is statistically significant at the 1% level."
      ],
      "metadata": {
        "id": "2UcAgnhoVnFv"
      }
    },
    {
      "cell_type": "markdown",
      "source": [
        "## Q2."
      ],
      "metadata": {
        "id": "XEjXHHmoz8hB"
      }
    },
    {
      "cell_type": "markdown",
      "source": [
        "Please use the model in Q1. Please predict the probability of the consumer being a good credit risk for an observation with CreditPurpose=1 (the other independent variables are set at their sample means or modes of the training set). Please convert this predicted probability to the log of odds of the consumer being a good credit risk for an observation with CreditPurpose=1. Please predict the probability of the consumer being a good credit risk for an observation with CreditPurpose=0 (the other independent variables are set at their sample means or modes of the training set). Please convert this predicted probability to the log of odds of the consumer being a good credit risk for an observation with CreditPurpose=0. Please calculate the difference between these two values of log of odds.\n",
        "\n",
        "Note: When predicting, you need to do the following:\n",
        "1. Categorical variables are set at the most frequent category of the training set.\n",
        "2. Continuous variables are set at their sample means of the training set."
      ],
      "metadata": {
        "id": "j-pAM8Sw1fP9"
      }
    },
    {
      "cell_type": "code",
      "source": [
        "import numpy as np\n",
        "import pandas as pd\n",
        "\n",
        "# Convert categorical columns to category type\n",
        "categorical_cols = [\"CreditPurpose\", \"DebtorGuarantor\",\n",
        "                    \"CreditHistory\", \"OtherInstallment\",\n",
        "                    \"PropertyOwnership\", \"Housing\", \"Job\"]\n",
        "\n",
        "train_df[categorical_cols] = train_df[categorical_cols].astype('category')\n",
        "\n",
        "# Calculate means and modes for numerical and categorical variables\n",
        "means = train_df.mean(numeric_only=True)\n",
        "modes = train_df.mode().iloc[0]\n",
        "\n",
        "# Function to create an input observation\n",
        "def create_observation(credit_purpose_value):\n",
        "    observation = {\n",
        "        col: (\n",
        "            credit_purpose_value if col == \"CreditPurpose\" else\n",
        "            means[col] if col in means.index else\n",
        "            modes[col] if col in modes.index else\n",
        "            None\n",
        "        )\n",
        "        for col in train_df.columns\n",
        "    }\n",
        "    input_df = pd.DataFrame([observation])\n",
        "    input_df[categorical_cols] = input_df[categorical_cols].astype(\"category\")\n",
        "    for col in categorical_cols:\n",
        "        input_df[col] = pd.Categorical(input_df[col], categories=train_df[col].cat.categories)\n",
        "    return input_df\n",
        "\n",
        "# Function to predict probability and calculate log-odds\n",
        "def predict_log_odds(credit_purpose_value):\n",
        "    input_df = create_observation(credit_purpose_value)\n",
        "    predicted_prob = logit_model.predict(input_df).iloc[0]\n",
        "    log_odds = np.log(predicted_prob / (1 - predicted_prob))\n",
        "    return predicted_prob, log_odds\n",
        "\n",
        "# Step 1: Predict for CreditPurpose=1\n",
        "prob_1, log_odds_1 = predict_log_odds(1)\n",
        "print(f\"CreditPurpose=1 -> Probability: {prob_1:.4f}, Log-Odds: {log_odds_1:.4f}\")\n",
        "\n",
        "# Step 2: Predict for CreditPurpose=0\n",
        "prob_0, log_odds_0 = predict_log_odds(0)\n",
        "print(f\"CreditPurpose=0 -> Probability: {prob_0:.4f}, Log-Odds: {log_odds_0:.4f}\")\n",
        "\n",
        "# Step 3: Calculate difference in log-odds\n",
        "log_odds_diff = log_odds_1 - log_odds_0\n",
        "print(f\"Difference in Log-Odds: {log_odds_diff:.4f}\")"
      ],
      "metadata": {
        "colab": {
          "base_uri": "https://localhost:8080/"
        },
        "id": "2XL3wKqHWexV",
        "outputId": "c1b36f9a-8580-4be2-8ee9-4a4e89640a82"
      },
      "execution_count": 29,
      "outputs": [
        {
          "output_type": "stream",
          "name": "stdout",
          "text": [
            "CreditPurpose=1 -> Probability: 0.8706, Log-Odds: 1.9063\n",
            "CreditPurpose=0 -> Probability: 0.5972, Log-Odds: 0.3937\n",
            "Difference in Log-Odds: 1.5126\n"
          ]
        },
        {
          "output_type": "stream",
          "name": "stderr",
          "text": [
            "<ipython-input-29-d2f433a988c2>:9: SettingWithCopyWarning: \n",
            "A value is trying to be set on a copy of a slice from a DataFrame.\n",
            "Try using .loc[row_indexer,col_indexer] = value instead\n",
            "\n",
            "See the caveats in the documentation: https://pandas.pydata.org/pandas-docs/stable/user_guide/indexing.html#returning-a-view-versus-a-copy\n",
            "  train_df[categorical_cols] = train_df[categorical_cols].astype('category')\n"
          ]
        }
      ]
    },
    {
      "cell_type": "markdown",
      "source": [
        "**Interpretation of Log-Odds and Probability**\n",
        "\n",
        "1. When CreditPurpose=1:\n",
        "- Probability: 0.8706 → This indicates a 87.06% likelihood that the consumer is a good credit risk, which is very high.\n",
        "- Log-Odds: 1.9063 → A higher log-odds value suggests a stronger likelihood of the event (being a good credit risk) occurring.\n",
        "\n",
        "2. When CreditPurpose=0:\n",
        "- Probability: 0.5972 → This indicates a 59.72% likelihood that the consumer is a good credit risk, which is still high but lower than when CreditPurpose=1.\n",
        "- Log-Odds: 0.3937 → A lower log-odds value compared to CreditPurpose=1, indicating a relatively weaker likelihood of being a good credit risk.\n",
        "\n",
        "3. Difference in Log-Odds: 1.5126\n",
        "- This value represents the difference in the likelihood of being a good credit risk (in terms of log-odds) between CreditPurpose=1 and CreditPurpose=0.\n",
        "- A 1.5126 increase in log-odds implies that the likelihood of being a good credit risk is significantly higher when CreditPurpose=1 compared to CreditPurpose=0."
      ],
      "metadata": {
        "id": "kNRI5jsnjHbX"
      }
    },
    {
      "cell_type": "markdown",
      "source": [
        "## Q3."
      ],
      "metadata": {
        "id": "o4xrCmVx0FeT"
      }
    },
    {
      "cell_type": "markdown",
      "source": [
        " Please use the model in Q1. Please create 10 deciles in reverse order based on the new variable “pred_good”, and save this variable that indicates the 10 deciles as “pred_good_dec”. Decile 1 should have the highest values of “pred_good”. Please create a decile lift chart by visualizing the mean of “Good” for each of the 10 deciles. How many deciles have higher than 85% probability of the consumer being a good credit risk?"
      ],
      "metadata": {
        "id": "D8i3UMb-0JmM"
      }
    },
    {
      "cell_type": "code",
      "source": [
        "# Step 1: Add predicted probabilities as \"pred_good\" to the training dataset\n",
        "train_df['pred_good'] = logit_model.predict(train_df)  # Predicted probabilities are saved as \"pred_good\"\n",
        "\n",
        "# Step 2: Create reverse deciles based on \"pred_good\"\n",
        "train_df['pred_good_dec'] = 10 - pd.qcut(train_df['pred_good'], 10, labels=False, duplicates='drop')\n",
        "\n",
        "# Step 3: Calculate total responses and response rate for each reverse decile\n",
        "reverse_decile_summary = (\n",
        "    train_df.groupby('pred_good_dec')\n",
        "    .agg(\n",
        "        total_responses=('Good', 'sum'),  # Sum of \"Good\" values\n",
        "        response_rate=('Good', lambda x: x.mean() * 100)  # Mean of \"Good\" values in percentage\n",
        "    )\n",
        "    .reset_index()\n",
        ")\n",
        "\n",
        "# Step 4: Calculate the overall positive rate in \"Good\"\n",
        "overall_positive_ratio = train_df['Good'].mean()\n",
        "\n",
        "# Step 5: Calculate lift for each decile\n",
        "reverse_decile_summary['Lift'] = (\n",
        "    reverse_decile_summary['total_responses'] /\n",
        "    (overall_positive_ratio * train_df['Good'].count() / 10)  # Adjust for total observations per decile\n",
        ")\n",
        "\n",
        "# Step 6: Determine the number of deciles with > 85% probability\n",
        "reverse_decile_summary['mean_good'] = reverse_decile_summary['response_rate'] / 100  # Convert to proportion\n",
        "high_probability_deciles = reverse_decile_summary[reverse_decile_summary['mean_good'] > 0.85]\n",
        "num_high_probability_deciles = len(high_probability_deciles)\n",
        "\n",
        "print(f\"Number of deciles with > 85% probability: {num_high_probability_deciles}\")\n",
        "\n",
        "# Step 7: Create the decile lift chart\n",
        "import matplotlib.pyplot as plt\n",
        "\n",
        "plt.figure(figsize=(8, 6))\n",
        "plt.plot(reverse_decile_summary['pred_good_dec'], reverse_decile_summary['Lift'], marker='o', linestyle='-')\n",
        "plt.title('Decile Lift Chart', fontsize=16)\n",
        "plt.xlabel('Decile (1 = Highest Predicted Probabilities)', fontsize=12)\n",
        "plt.ylabel('Lift', fontsize=12)\n",
        "plt.grid(True)\n",
        "plt.xticks(reverse_decile_summary['pred_good_dec'])\n",
        "plt.show()"
      ],
      "metadata": {
        "colab": {
          "base_uri": "https://localhost:8080/",
          "height": 822
        },
        "id": "YUPqUOTKa5X3",
        "outputId": "57113811-34a9-4712-d0f2-b45a7c6ef0b6"
      },
      "execution_count": 30,
      "outputs": [
        {
          "output_type": "stream",
          "name": "stderr",
          "text": [
            "<ipython-input-30-94aedb803d89>:2: SettingWithCopyWarning: \n",
            "A value is trying to be set on a copy of a slice from a DataFrame.\n",
            "Try using .loc[row_indexer,col_indexer] = value instead\n",
            "\n",
            "See the caveats in the documentation: https://pandas.pydata.org/pandas-docs/stable/user_guide/indexing.html#returning-a-view-versus-a-copy\n",
            "  train_df['pred_good'] = logit_model.predict(train_df)  # Predicted probabilities are saved as \"pred_good\"\n",
            "<ipython-input-30-94aedb803d89>:5: SettingWithCopyWarning: \n",
            "A value is trying to be set on a copy of a slice from a DataFrame.\n",
            "Try using .loc[row_indexer,col_indexer] = value instead\n",
            "\n",
            "See the caveats in the documentation: https://pandas.pydata.org/pandas-docs/stable/user_guide/indexing.html#returning-a-view-versus-a-copy\n",
            "  train_df['pred_good_dec'] = 10 - pd.qcut(train_df['pred_good'], 10, labels=False, duplicates='drop')\n"
          ]
        },
        {
          "output_type": "stream",
          "name": "stdout",
          "text": [
            "Number of deciles with > 85% probability: 3\n"
          ]
        },
        {
          "output_type": "display_data",
          "data": {
            "text/plain": [
              "<Figure size 800x600 with 1 Axes>"
            ],
            "image/png": "[encoded data removed]"
          },
          "metadata": {}
        }
      ]
    },
    {
      "cell_type": "markdown",
      "source": [
        "**How many deciles have higher than 85% probability of the consumer being a good credit risk?**\n",
        "\n",
        "Number of deciles with > 85% probability: 3"
      ],
      "metadata": {
        "id": "IW9u6H1DXa8v"
      }
    },
    {
      "cell_type": "markdown",
      "source": [
        "## Q4."
      ],
      "metadata": {
        "id": "CZnUKbR_0Lt7"
      }
    },
    {
      "cell_type": "markdown",
      "source": [
        " Please use the model in Q1. Please use 0.8 as the cutoff and recode “pred_good” into a dummy variable “pred_good_point8” that is 1 for values higher than or equal to 0.8 and 0 otherwise. Please produce a confusion matrix based on “pred_good_point8” for the training set. What is the sensitivity? What is the specificity?"
      ],
      "metadata": {
        "id": "1aJlLFia0Of4"
      }
    },
    {
      "cell_type": "code",
      "source": [
        "from sklearn.metrics import confusion_matrix, ConfusionMatrixDisplay\n",
        "\n",
        "# Step 1: Recode \"pred_good\" into a dummy variable \"pred_good_point8\"\n",
        "train_df['pred_good_point8'] = (train_df['pred_good'] >= 0.8).astype(int)\n",
        "\n",
        "# Step 2: Create the confusion matrix\n",
        "# Assuming \"Good\" is the actual target variable\n",
        "y_true = train_df['Good']  # True labels\n",
        "y_pred = train_df['pred_good_point8']  # Predicted labels based on cutoff 0.8\n",
        "\n",
        "cm = confusion_matrix(y_true, y_pred)\n",
        "tn, fp, fn, tp = cm.ravel()  # Extract True Negatives, False Positives, False Negatives, True Positives\n",
        "\n",
        "# Display the confusion matrix\n",
        "ConfusionMatrixDisplay(confusion_matrix=cm, display_labels=[\"Not Good\", \"Good\"]).plot(cmap=\"Blues\")\n",
        "plt.title(\"Confusion Matrix\")\n",
        "plt.show()\n",
        "\n",
        "# Step 3: Calculate sensitivity (recall for the positive class)\n",
        "sensitivity = tp / (tp + fn)  # True Positive Rate\n",
        "print(f\"Sensitivity: {sensitivity:.4f}\")\n",
        "\n",
        "# Step 4: Calculate specificity\n",
        "specificity = tn / (tn + fp)  # True Negative Rate\n",
        "print(f\"Specificity: {specificity:.4f}\")"
      ],
      "metadata": {
        "id": "h92JciDg1qiq",
        "colab": {
          "base_uri": "https://localhost:8080/",
          "height": 635
        },
        "outputId": "c2c3356d-0633-485b-cf06-ae5c6abbad82"
      },
      "execution_count": 31,
      "outputs": [
        {
          "output_type": "stream",
          "name": "stderr",
          "text": [
            "<ipython-input-31-b2d49d4fbfbb>:4: SettingWithCopyWarning: \n",
            "A value is trying to be set on a copy of a slice from a DataFrame.\n",
            "Try using .loc[row_indexer,col_indexer] = value instead\n",
            "\n",
            "See the caveats in the documentation: https://pandas.pydata.org/pandas-docs/stable/user_guide/indexing.html#returning-a-view-versus-a-copy\n",
            "  train_df['pred_good_point8'] = (train_df['pred_good'] >= 0.8).astype(int)\n"
          ]
        },
        {
          "output_type": "display_data",
          "data": {
            "text/plain": [
              "<Figure size 640x480 with 2 Axes>"
            ],
            "image/png": "[encoded data removed]"
          },
          "metadata": {}
        },
        {
          "output_type": "stream",
          "name": "stdout",
          "text": [
            "Sensitivity: 0.5482\n",
            "Specificity: 0.8625\n"
          ]
        }
      ]
    },
    {
      "cell_type": "markdown",
      "source": [
        "## Q5."
      ],
      "metadata": {
        "id": "hXoyYwsT0Qr-"
      }
    },
    {
      "cell_type": "markdown",
      "source": [
        "Suppose the bank will use the model in Q1 to predict the probability of the consumer being a good credit risk, and use this algorithm to automatically approve credit applications with higher than 0.8 values of “pred_good”. Using the confusion matrix produced in Q4, how many credit applications will be automatically approved? Among those credit applications that are automatically approved, how many are good credit risks and how many are bad credit risks? Among the credit applications that are automatically approved, what is the percentage of being good credit risks?"
      ],
      "metadata": {
        "id": "Gwoj2xuf0SNR"
      }
    },
    {
      "cell_type": "code",
      "source": [
        "# Step 1: Extract values from the confusion matrix\n",
        "# TN, FP, FN, TP were already extracted from cm.ravel()\n",
        "\n",
        "# Automatically approved credit applications are those with pred_good_point8 = 1\n",
        "# These are the total predicted positives: TP (Good credit risks) + FP (Bad credit risks)\n",
        "auto_approved = tp + fp\n",
        "\n",
        "# Step 2: Calculate good credit risks among automatically approved\n",
        "good_credit_risks = tp  # True Positives\n",
        "\n",
        "# Step 3: Calculate bad credit risks among automatically approved\n",
        "bad_credit_risks = fp  # False Positives\n",
        "\n",
        "# Step 4: Calculate the percentage of good credit risks among automatically approved\n",
        "percentage_good_credit_risks = (good_credit_risks / auto_approved) * 100 if auto_approved > 0 else 0\n",
        "\n",
        "# Step 5: Print the results\n",
        "print(f\"Total credit applications automatically approved: {auto_approved}\")\n",
        "print(f\"Good credit risks among automatically approved: {good_credit_risks}\")\n",
        "print(f\"Bad credit risks among automatically approved: {bad_credit_risks}\")\n",
        "print(f\"Percentage of good credit risks among automatically approved: {percentage_good_credit_risks:.2f}%\")"
      ],
      "metadata": {
        "id": "eT1-6gaF1rHV",
        "colab": {
          "base_uri": "https://localhost:8080/"
        },
        "outputId": "a94979a5-671c-4e70-e11d-21e6e2110947"
      },
      "execution_count": 32,
      "outputs": [
        {
          "output_type": "stream",
          "name": "stdout",
          "text": [
            "Total credit applications automatically approved: 340\n",
            "Good credit risks among automatically approved: 307\n",
            "Bad credit risks among automatically approved: 33\n",
            "Percentage of good credit risks among automatically approved: 90.29%\n"
          ]
        }
      ]
    },
    {
      "cell_type": "markdown",
      "source": [
        "**Answers**\n",
        "\n",
        "**1. Using the confusion matrix produced in Q4, how many credit applications will be automatically approved?**\n",
        "- Total credit applications automatically approved: 340\n",
        "\n",
        "**2. Among those credit applications that are automatically approved, how many are good credit risks and how many are bad credit risks?**\n",
        "- Good credit risks among automatically approved: 307\n",
        "- Bad credit risks among automatically approved: 33\n",
        "\n",
        "**3. Among the credit applications that are automatically approved, what is the percentage of being good credit risks?**\n",
        "- Percentage of good credit risks among automatically approved: 90.29%"
      ],
      "metadata": {
        "id": "nAYFqxu3Ymwu"
      }
    },
    {
      "cell_type": "markdown",
      "source": [
        "## Q6."
      ],
      "metadata": {
        "id": "933vtpIR0Ung"
      }
    },
    {
      "cell_type": "markdown",
      "source": [
        "Please use the model in Q1 and add the interaction term between CheckingAccount and CreditAmount. Please calculate the marginal effect of how one unit increase in CreditAmount will change the dependent variable in this model. (Note: You should describe what this independent variable is and list the group this marginal effect is for.) Please interpret the interaction term between CheckingAccount=3 and CreditAmount. (Note: The interpretations created by Generative AI tools may not be very accurate for this question. You should follow the interpretation taught in class.)"
      ],
      "metadata": {
        "id": "8tIEl0W60XQn"
      }
    },
    {
      "cell_type": "code",
      "source": [
        "# Step 1: Add an interaction term between CheckingAccount and CreditAmount\n",
        "train_df['CheckingAccount_CreditAmount'] = train_df['CheckingAccount'] * train_df['CreditAmount']\n",
        "\n",
        "# Step 2: Fit the logistic regression model with the interaction term\n",
        "formula_with_interaction = (\n",
        "    \"Good ~ CreditDuration + C(CreditPurpose) + CreditAmount + InstallmentPct + \"\n",
        "    \"C(DebtorGuarantor) + CheckingAccount + SavingsAccount + C(CreditHistory) + \"\n",
        "    \"ExistingCredit + C(OtherInstallment) + Age + Female + Employment + \"\n",
        "    \"ResidenceYears + C(PropertyOwnership) + C(Housing) + C(Job) + Dependent + \"\n",
        "    \"Telephone + ForeignWorker + CheckingAccount_CreditAmount\"\n",
        ")\n",
        "\n",
        "logit_model_with_interaction = smf.logit(formula=formula_with_interaction, data=train_df).fit()\n",
        "\n",
        "# Step 3: Calculate the marginal effect of CreditAmount\n",
        "# Marginal effects are calculated based on the fitted logistic regression model\n",
        "marginal_effects = logit_model_with_interaction.get_margeff(at='overall', method='dydx')\n",
        "\n",
        "# Extract the marginal effect for CreditAmount\n",
        "credit_amount_marginal_effect = marginal_effects.summary_frame().loc['CreditAmount']\n",
        "\n",
        "# Print the marginal effect and associated statistics\n",
        "print(\"Marginal Effect of CreditAmount:\")\n",
        "print(credit_amount_marginal_effect)\n",
        "\n",
        "# Step 4: Describe the independent variable and group\n",
        "print(\"\\nDescription:\")\n",
        "print(\"The independent variable 'CreditAmount' represents the amount of credit requested by the applicant.\")\n",
        "print(\"The marginal effect describes how a one-unit increase in CreditAmount changes the probability of being a good credit risk,\")\n",
        "print(\"controlling for other variables in the model and accounting for the interaction with CheckingAccount.\")"
      ],
      "metadata": {
        "id": "czMEmY481r-h",
        "colab": {
          "base_uri": "https://localhost:8080/"
        },
        "outputId": "d64005da-f8c6-4dab-a88c-ff51fa3f448a"
      },
      "execution_count": 35,
      "outputs": [
        {
          "output_type": "stream",
          "name": "stdout",
          "text": [
            "Optimization terminated successfully.\n",
            "         Current function value: 0.486720\n",
            "         Iterations 7\n",
            "Marginal Effect of CreditAmount:\n",
            "dy/dx            -0.000016\n",
            "Std. Err.         0.000010\n",
            "z                -1.602801\n",
            "Pr(>|z|)          0.108979\n",
            "Conf. Int. Low   -0.000036\n",
            "Cont. Int. Hi.    0.000004\n",
            "Name: CreditAmount, dtype: float64\n",
            "\n",
            "Description:\n",
            "The independent variable 'CreditAmount' represents the amount of credit requested by the applicant.\n",
            "The marginal effect describes how a one-unit increase in CreditAmount changes the probability of being a good credit risk,\n",
            "controlling for other variables in the model and accounting for the interaction with CheckingAccount.\n"
          ]
        },
        {
          "output_type": "stream",
          "name": "stderr",
          "text": [
            "<ipython-input-35-ebce785a67ce>:2: SettingWithCopyWarning: \n",
            "A value is trying to be set on a copy of a slice from a DataFrame.\n",
            "Try using .loc[row_indexer,col_indexer] = value instead\n",
            "\n",
            "See the caveats in the documentation: https://pandas.pydata.org/pandas-docs/stable/user_guide/indexing.html#returning-a-view-versus-a-copy\n",
            "  train_df['CheckingAccount_CreditAmount'] = train_df['CheckingAccount'] * train_df['CreditAmount']\n"
          ]
        }
      ]
    },
    {
      "cell_type": "markdown",
      "source": [
        "**Interpretation of the Interaction Term between CheckingAccount=3 and CreditAmount**\n",
        "\n",
        "**1. Baseline Margin Effect of CreditAmount:**\n",
        "- The marginal effect of CreditAmount on the probability of being a good credit risk is **-0.000016**.\n",
        "-This indicates that for an average applicant (without accounting for interaction terms), increasing the CreditAmount by one unit slightly reduces the probability of being a good credit risk. However, the effect is very small and statistically insignificant (p-value = 0.108979).\n",
        "\n",
        "**2.\tInteraction Effect for CheckingAccount=3:**\n",
        "- When CheckingAccount=3, the interaction term modifies the baseline effect of CreditAmount.\n",
        "- The interaction coefficient for CheckingAccount=3 combined with CreditAmount captures whether the relationship between CreditAmount and the likelihood of being a good credit risk changes specifically for applicants in this category.\n",
        "\n",
        "**3.\tKey Insights:**\n",
        "- **Direction of the Effect:**\n",
        "  - If the interaction coefficient (not displayed here) is positive, it suggests that for CheckingAccount=3, the negative baseline effect of CreditAmount is partially offset, making the impact less negative (or even positive, depending on the coefficient’s magnitude).\n",
        "  - If the interaction coefficient is negative, it suggests that for CheckingAccount=3, the negative baseline effect is amplified, further reducing the probability of being a good credit risk.\n",
        "- **Practical Implications**:\n",
        "  - For applicants with CheckingAccount=3, the amount of credit they request (CreditAmount) has a differential impact compared to other applicants.\n",
        "  - This suggests that CreditAmount and CheckingAccount are not independent predictors; their combined influence differs for specific subgroups.\n",
        "\n",
        "**4. Statistical Significance:**\n",
        "- The baseline marginal effect of CreditAmount is not statistically significant (p-value > 0.05), meaning there is no strong evidence that CreditAmount alone has a meaningful impact on the dependent variable.\n",
        "- To confirm the interaction’s effect for CheckingAccount=3, the interaction coefficient itself needs to be inspected.\n",
        "\n",
        "**5. Conclusion:**\n",
        "- While the baseline effect of CreditAmount shows a very small negative impact on the probability of being a good credit risk, the interaction term between CheckingAccount=3 and CreditAmount modifies this relationship.\n",
        "- This interaction reflects that CreditAmount’s impact is context-dependent, varying by the applicant’s CheckingAccount status. For CheckingAccount=3, further analysis of the interaction coefficient’s sign and magnitude would clarify whether this subgroup experiences a stronger, weaker, or reversed relationship between credit amount and credit risk."
      ],
      "metadata": {
        "id": "Szd_FC8ElCT7"
      }
    },
    {
      "cell_type": "code",
      "source": [
        "# CheckingAccount = 3\n",
        "\n",
        "# Step 5: Extract coefficients for CreditAmount and the interaction term\n",
        "# Display all parameter names to identify the correct interaction term\n",
        "print(\"Model Parameters:\", logit_model_with_interaction.params.index)\n",
        "\n",
        "# Baseline effect of CreditAmount\n",
        "credit_amount_coef = logit_model_with_interaction.params['CreditAmount']\n",
        "\n",
        "# Interaction effect for CheckingAccount=3\n",
        "# Assuming CheckingAccount is numeric or encoded, and you want the specific interaction with CreditAmount\n",
        "interaction_coef_name = 'CheckingAccount_CreditAmount'  # Replace this if your interaction term name differs\n",
        "interaction_coef = logit_model_with_interaction.params[interaction_coef_name]\n",
        "\n",
        "# Step 6: Calculate the total effect for CheckingAccount=3\n",
        "# Total effect = Baseline effect + Interaction effect * CheckingAccount (3 in this case)\n",
        "total_effect_checking_3 = credit_amount_coef + (3 * interaction_coef)\n",
        "\n",
        "# Print results\n",
        "print(f\"Baseline effect of CreditAmount: {credit_amount_coef:.4f}\")\n",
        "print(f\"Interaction effect for CheckingAccount=3: {interaction_coef:.4f}\")\n",
        "print(f\"Total effect of CreditAmount when CheckingAccount=3: {total_effect_checking_3:.4f}\")\n",
        "\n",
        "# Step 7: Interpretation of the total effect\n",
        "print(\"\\nInterpretation:\")\n",
        "print(f\"The baseline effect of CreditAmount on the probability of being a good credit risk is {credit_amount_coef:.4f}.\")\n",
        "print(f\"When CheckingAccount=3, the interaction term modifies this baseline effect.\")\n",
        "if interaction_coef > 0:\n",
        "    print(f\"The positive interaction coefficient ({interaction_coef:.6f}) suggests that the negative baseline effect of CreditAmount is reduced for applicants with CheckingAccount=3, making the overall effect less negative or even positive.\")\n",
        "elif interaction_coef < 0:\n",
        "    print(f\"The negative interaction coefficient ({interaction_coef:.6f}) suggests that the negative baseline effect of CreditAmount is amplified for applicants with CheckingAccount=3, further reducing the probability of being a good credit risk.\")\n",
        "else:\n",
        "    print(\"The interaction coefficient is 0, meaning the relationship between CreditAmount and the probability of being a good credit risk does not change for CheckingAccount=3.\")"
      ],
      "metadata": {
        "colab": {
          "base_uri": "https://localhost:8080/"
        },
        "id": "sgC0LkSP5lBe",
        "outputId": "72882ef1-8319-4a8e-8e57-266e934dfc92"
      },
      "execution_count": 39,
      "outputs": [
        {
          "output_type": "stream",
          "name": "stdout",
          "text": [
            "Model Parameters: Index(['Intercept', 'C(CreditPurpose)[T.1]', 'C(CreditPurpose)[T.2]',\n",
            "       'C(CreditPurpose)[T.3]', 'C(CreditPurpose)[T.4]',\n",
            "       'C(CreditPurpose)[T.5]', 'C(CreditPurpose)[T.6]',\n",
            "       'C(CreditPurpose)[T.7]', 'C(CreditPurpose)[T.8]',\n",
            "       'C(CreditPurpose)[T.9]', 'C(DebtorGuarantor)[T.1]',\n",
            "       'C(DebtorGuarantor)[T.2]', 'C(CreditHistory)[T.1]',\n",
            "       'C(CreditHistory)[T.2]', 'C(CreditHistory)[T.3]',\n",
            "       'C(CreditHistory)[T.4]', 'C(OtherInstallment)[T.1]',\n",
            "       'C(OtherInstallment)[T.2]', 'C(PropertyOwnership)[T.1]',\n",
            "       'C(PropertyOwnership)[T.2]', 'C(PropertyOwnership)[T.3]',\n",
            "       'C(Housing)[T.1]', 'C(Housing)[T.2]', 'C(Job)[T.1]', 'C(Job)[T.2]',\n",
            "       'C(Job)[T.3]', 'CreditDuration', 'CreditAmount', 'InstallmentPct',\n",
            "       'CheckingAccount', 'SavingsAccount', 'ExistingCredit', 'Age', 'Female',\n",
            "       'Employment', 'ResidenceYears', 'Dependent', 'Telephone',\n",
            "       'ForeignWorker', 'CheckingAccount_CreditAmount'],\n",
            "      dtype='object')\n",
            "Baseline effect of CreditAmount: -0.0001\n",
            "Interaction effect for CheckingAccount=3: -0.0000\n",
            "Total effect of CreditAmount when CheckingAccount=3: -0.0001\n",
            "\n",
            "Interpretation:\n",
            "The baseline effect of CreditAmount on the probability of being a good credit risk is -0.0001.\n",
            "When CheckingAccount=3, the interaction term modifies this baseline effect.\n",
            "The negative interaction coefficient (-0.000015) suggests that the negative baseline effect of CreditAmount is amplified for applicants with CheckingAccount=3, further reducing the probability of being a good credit risk.\n"
          ]
        }
      ]
    },
    {
      "cell_type": "markdown",
      "source": [
        "# Part2: Validation"
      ],
      "metadata": {
        "id": "F5T7gjeH0gGT"
      }
    },
    {
      "cell_type": "markdown",
      "source": [
        "Please use the validation set (and the training set if applicable) now."
      ],
      "metadata": {
        "id": "4Y6xeQs0_-2-"
      }
    },
    {
      "cell_type": "markdown",
      "source": [
        "## Q7."
      ],
      "metadata": {
        "id": "SK8SOgsC0lXw"
      }
    },
    {
      "cell_type": "markdown",
      "source": [
        "Please produce a confusion matrix based on “pred_good_point8” for the validation set for the model in Q1. What is the sensitivity? What is the specificity?"
      ],
      "metadata": {
        "id": "GrEdUz0-0olu"
      }
    },
    {
      "cell_type": "code",
      "source": [
        "from sklearn.metrics import confusion_matrix, ConfusionMatrixDisplay\n",
        "\n",
        "# Step 1: Create \"pred_good_point8\" for the validation set\n",
        "validation_df['pred_good'] = logit_model.predict(validation_df)  # Predicted probabilities\n",
        "validation_df['pred_good_point8'] = (validation_df['pred_good'] >= 0.8).astype(int)\n",
        "\n",
        "# Step 2: Generate the confusion matrix\n",
        "y_true = validation_df['Good']  # True labels\n",
        "y_pred = validation_df['pred_good_point8']  # Predicted labels based on cutoff\n",
        "cm = confusion_matrix(y_true, y_pred)\n",
        "tn, fp, fn, tp = cm.ravel()\n",
        "\n",
        "# Step 3: Display the confusion matrix\n",
        "ConfusionMatrixDisplay(confusion_matrix=cm, display_labels=[\"Not Good\", \"Good\"]).plot(cmap=\"Blues\")\n",
        "plt.title(\"Confusion Matrix for Validation Set\")\n",
        "plt.show()\n",
        "\n",
        "# Step 4: Calculate sensitivity (True Positive Rate)\n",
        "sensitivity = tp / (tp + fn) if (tp + fn) > 0 else 0\n",
        "print(f\"Sensitivity: {sensitivity:.4f}\")\n",
        "\n",
        "# Step 5: Calculate specificity (True Negative Rate)\n",
        "specificity = tn / (tn + fp) if (tn + fp) > 0 else 0\n",
        "print(f\"Specificity: {specificity:.4f}\")"
      ],
      "metadata": {
        "colab": {
          "base_uri": "https://localhost:8080/",
          "height": 742
        },
        "id": "9toAbs_0muvV",
        "outputId": "bf1003f9-957e-4b66-f968-c191ec9e20bd"
      },
      "execution_count": 36,
      "outputs": [
        {
          "output_type": "stream",
          "name": "stderr",
          "text": [
            "<ipython-input-36-5f98e124ba56>:4: SettingWithCopyWarning: \n",
            "A value is trying to be set on a copy of a slice from a DataFrame.\n",
            "Try using .loc[row_indexer,col_indexer] = value instead\n",
            "\n",
            "See the caveats in the documentation: https://pandas.pydata.org/pandas-docs/stable/user_guide/indexing.html#returning-a-view-versus-a-copy\n",
            "  validation_df['pred_good'] = logit_model.predict(validation_df)  # Predicted probabilities\n",
            "<ipython-input-36-5f98e124ba56>:5: SettingWithCopyWarning: \n",
            "A value is trying to be set on a copy of a slice from a DataFrame.\n",
            "Try using .loc[row_indexer,col_indexer] = value instead\n",
            "\n",
            "See the caveats in the documentation: https://pandas.pydata.org/pandas-docs/stable/user_guide/indexing.html#returning-a-view-versus-a-copy\n",
            "  validation_df['pred_good_point8'] = (validation_df['pred_good'] >= 0.8).astype(int)\n"
          ]
        },
        {
          "output_type": "display_data",
          "data": {
            "text/plain": [
              "<Figure size 640x480 with 2 Axes>"
            ],
            "image/png": "[encoded data removed]"
          },
          "metadata": {}
        },
        {
          "output_type": "stream",
          "name": "stdout",
          "text": [
            "Sensitivity: 0.5143\n",
            "Specificity: 0.8333\n"
          ]
        }
      ]
    },
    {
      "cell_type": "markdown",
      "source": [
        "## Q8."
      ],
      "metadata": {
        "id": "GJ62uQ_Tdhsk"
      }
    },
    {
      "cell_type": "markdown",
      "source": [
        "Suppose the bank will use the model in Q1 and apply it to the validation set. Credit applications with higher than 0.8 values of “pred_good” will be automatically approved. Please calculate how many credit applications will be automatically approved. Please calculate the sum of credit amounts that will be automatically approved. Please use the percentage of automatically approved credit applications that are good credit risks in the training set, as reported in Q5, and extrapolate it to the credit applications that will be automatically approved in the validation set. How many automatically approved credit applications in the validation set will be good credit risks?"
      ],
      "metadata": {
        "id": "zHcdujNsdlJm"
      }
    },
    {
      "cell_type": "code",
      "source": [
        "# Step 1: Predict \"pred_good\" and create \"pred_good_point8\" for the validation set\n",
        "validation_df['pred_good'] = logit_model.predict(validation_df)  # Predicted probabilities\n",
        "validation_df['pred_good_point8'] = (validation_df['pred_good'] >= 0.8).astype(int)\n",
        "\n",
        "# Step 2: Calculate the total number of automatically approved applications\n",
        "auto_approved_count = validation_df['pred_good_point8'].sum()\n",
        "\n",
        "# Step 3: Calculate the sum of credit amounts for automatically approved applications\n",
        "auto_approved_credit_sum = validation_df.loc[validation_df['pred_good_point8'] == 1, 'CreditAmount'].sum()\n",
        "\n",
        "# Step 4: Use the percentage of good credit risks among automatically approved applications from Q5\n",
        "# Assuming the percentage from Q5 is stored in \"percentage_good_credit_risks\"\n",
        "# For example, replace this value with the actual percentage you calculated in Q5\n",
        "percentage_good_credit_risks_train = percentage_good_credit_risks / 100  # Convert to proportion\n",
        "\n",
        "# Step 5: Extrapolate the number of good credit risks in the validation set\n",
        "good_credit_risks_validation = auto_approved_count * percentage_good_credit_risks_train\n",
        "\n",
        "# Step 6: Print the results\n",
        "print(f\"Total credit applications automatically approved: {auto_approved_count}\")\n",
        "print(f\"Sum of credit amounts automatically approved: {auto_approved_credit_sum}\")\n",
        "print(f\"Percentage of good credit risks (from training set): {percentage_good_credit_risks:.2f}%\")\n",
        "print(f\"Estimated number of good credit risks in validation set: {good_credit_risks_validation:.0f}\")"
      ],
      "metadata": {
        "colab": {
          "base_uri": "https://localhost:8080/"
        },
        "id": "WZMGLYiXdn5O",
        "outputId": "c2927710-61e1-43b5-b8e5-4c86e661a6f2"
      },
      "execution_count": 37,
      "outputs": [
        {
          "output_type": "stream",
          "name": "stdout",
          "text": [
            "Total credit applications automatically approved: 82\n",
            "Sum of credit amounts automatically approved: 213600\n",
            "Percentage of good credit risks (from training set): 90.29%\n",
            "Estimated number of good credit risks in validation set: 74\n"
          ]
        },
        {
          "output_type": "stream",
          "name": "stderr",
          "text": [
            "<ipython-input-37-a21da54880ff>:2: SettingWithCopyWarning: \n",
            "A value is trying to be set on a copy of a slice from a DataFrame.\n",
            "Try using .loc[row_indexer,col_indexer] = value instead\n",
            "\n",
            "See the caveats in the documentation: https://pandas.pydata.org/pandas-docs/stable/user_guide/indexing.html#returning-a-view-versus-a-copy\n",
            "  validation_df['pred_good'] = logit_model.predict(validation_df)  # Predicted probabilities\n",
            "<ipython-input-37-a21da54880ff>:3: SettingWithCopyWarning: \n",
            "A value is trying to be set on a copy of a slice from a DataFrame.\n",
            "Try using .loc[row_indexer,col_indexer] = value instead\n",
            "\n",
            "See the caveats in the documentation: https://pandas.pydata.org/pandas-docs/stable/user_guide/indexing.html#returning-a-view-versus-a-copy\n",
            "  validation_df['pred_good_point8'] = (validation_df['pred_good'] >= 0.8).astype(int)\n"
          ]
        }
      ]
    },
    {
      "cell_type": "markdown",
      "source": [
        "**[Answer]**\n",
        "\n",
        "Using the model in Q1 and applying it to the validation set:\n",
        "\n",
        "**1. Total credit applications automatically approved:**\n",
        "- The number of credit applications with pred_good values higher than 0.8 is **82**.\n",
        "\n",
        "**2. Sum of credit amounts automatically approved:**\n",
        "- The total credit amount for these automatically approved applications is **213,600**.\n",
        "\n",
        "**3. Percentage of good credit risks (from training set):**\n",
        "- Based on the training set (Q5), the percentage of automatically approved credit applications that are good credit risks is **90.29%**.\n",
        "\n",
        "**4. Extrapolated number of good credit risks in the validation set:**\n",
        "- Using the percentage from the training set, the estimated number of good credit risks among the 82 automatically approved applications in the validation set is: **Estimated good credit risks = 82*0.9029 = 74**\n",
        "\n",
        "- Therefore, 74 credit applications among those automatically approved are estimated to be good credit risks."
      ],
      "metadata": {
        "id": "-I6SeogSntAa"
      }
    },
    {
      "cell_type": "code",
      "source": [],
      "metadata": {
        "id": "8pEzSMlPoVfL"
      },
      "execution_count": null,
      "outputs": []
    }
  ]
}